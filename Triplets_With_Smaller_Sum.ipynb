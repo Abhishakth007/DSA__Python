{
 "cells": [
  {
   "cell_type": "code",
   "execution_count": 9,
   "id": "d2ae13ec",
   "metadata": {},
   "outputs": [
    {
     "name": "stdout",
     "output_type": "stream",
     "text": [
      "[(7, 3, 1), (5, 3, 1), (4, 3, 1), (5, 4, 1)]\n"
     ]
    }
   ],
   "source": [
    "def smaller_sum_triplets(arr,k):\n",
    "    \n",
    "    arr.sort()\n",
    "    \n",
    "    final_result = []\n",
    "    \n",
    "    for i in range(0,len(arr)-1):\n",
    "        \n",
    "        l = i+1\n",
    "        \n",
    "        r = len(arr)-1\n",
    "        \n",
    "        while l<r:\n",
    "            \n",
    "            current_sum = arr[i]+arr[l]+arr[r]\n",
    "            \n",
    "            if current_sum < k:\n",
    "                \n",
    "                for j in range(r,l,-1):\n",
    "                \n",
    "                   final_result.append((arr[j],arr[l],arr[i]))\n",
    "                \n",
    "                l+=1\n",
    "                \n",
    "            else:\n",
    "                r-=1\n",
    "            \n",
    "                \n",
    "                             \n",
    "    return final_result\n",
    "\n",
    "nums = [5, 1, 3, 4, 7]\n",
    "\n",
    "k = 12\n",
    "\n",
    "result = smaller_sum_triplets(nums,k)               # Time = O(N^2)  ,Space = O(N)\n",
    "\n",
    "print(result)\n",
    "                \n",
    "\n",
    "1,3,4,5,7 \n",
    "            "
   ]
  }
 ],
 "metadata": {
  "kernelspec": {
   "display_name": "Python 3 (ipykernel)",
   "language": "python",
   "name": "python3"
  },
  "language_info": {
   "codemirror_mode": {
    "name": "ipython",
    "version": 3
   },
   "file_extension": ".py",
   "mimetype": "text/x-python",
   "name": "python",
   "nbconvert_exporter": "python",
   "pygments_lexer": "ipython3",
   "version": "3.11.5"
  }
 },
 "nbformat": 4,
 "nbformat_minor": 5
}
