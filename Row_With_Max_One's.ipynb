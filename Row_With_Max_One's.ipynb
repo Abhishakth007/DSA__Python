{
 "cells": [
  {
   "cell_type": "code",
   "execution_count": 10,
   "id": "ec611f59",
   "metadata": {},
   "outputs": [
    {
     "name": "stdout",
     "output_type": "stream",
     "text": [
      "2\n"
     ]
    }
   ],
   "source": [
    "def row_with_max_ones(arr):\n",
    "    \n",
    "    max_index = 0\n",
    "    \n",
    "    max_count = 0\n",
    "    \n",
    "    for i in range(len(arr)):\n",
    "        \n",
    "        current_count_of_ones = arr[i].count(1)\n",
    "        \n",
    "        if current_count_of_ones > max_count:\n",
    "            \n",
    "            max_count = current_count_of_ones\n",
    "            \n",
    "            max_index  = i\n",
    "            \n",
    "    return max_index\n",
    "    \n",
    "\n",
    "nums = [[0, 0, 0, 1],\n",
    "       [0, 1, 1, 1],\n",
    "       [1, 1, 1, 1],\n",
    "       [0, 0, 0, 0]]\n",
    "\n",
    "result = row_with_max_ones(nums)       # Time = O(n*m)  , Space = O(1)\n",
    "\n",
    "print(result)\n"
   ]
  },
  {
   "cell_type": "code",
   "execution_count": 11,
   "id": "d0829717",
   "metadata": {},
   "outputs": [
    {
     "name": "stdout",
     "output_type": "stream",
     "text": [
      "2\n"
     ]
    }
   ],
   "source": [
    "def row_with_max_ones(arr,n,m):\n",
    "    \n",
    "    max_index = -1\n",
    "        \n",
    "    j = m-1  # Last Column\n",
    "    \n",
    "    \n",
    "    for i in range(n):\n",
    "        \n",
    "        while j >=0 and arr[i][j] == 1:\n",
    "            \n",
    "            j -= 1\n",
    "            \n",
    "            max_index = i \n",
    "            \n",
    "    return max_index\n",
    "\n",
    "nums = [[0, 0, 0, 1],\n",
    "       [0, 1, 1, 1],\n",
    "       [1, 1, 1, 1],\n",
    "       [0, 0, 0, 0]]\n",
    "\n",
    "result = row_with_max_ones(nums,4,4)       # Time = O(n+m)  , Space = O(1)\n",
    "\n",
    "print(result)\n",
    "            "
   ]
  }
 ],
 "metadata": {
  "kernelspec": {
   "display_name": "Python 3 (ipykernel)",
   "language": "python",
   "name": "python3"
  },
  "language_info": {
   "codemirror_mode": {
    "name": "ipython",
    "version": 3
   },
   "file_extension": ".py",
   "mimetype": "text/x-python",
   "name": "python",
   "nbconvert_exporter": "python",
   "pygments_lexer": "ipython3",
   "version": "3.11.5"
  }
 },
 "nbformat": 4,
 "nbformat_minor": 5
}
