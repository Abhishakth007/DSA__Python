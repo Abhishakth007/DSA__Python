{
 "cells": [
  {
   "cell_type": "code",
   "execution_count": 1,
   "id": "547c0677",
   "metadata": {},
   "outputs": [
    {
     "name": "stdout",
     "output_type": "stream",
     "text": [
      "7\n"
     ]
    }
   ],
   "source": [
    "def max_sum(arr):\n",
    "    \n",
    "    n = len(arr)\n",
    "    \n",
    "    current_sum = 0\n",
    "    \n",
    "    max_till_here = arr[0]\n",
    "    \n",
    "    for i in range(n):\n",
    "        \n",
    "        current_sum+= arr[i]\n",
    "        \n",
    "        max_till_here = max(current_sum,max_till_here)\n",
    "        \n",
    "        if current_sum < 0:\n",
    "            \n",
    "            current_sum = 0\n",
    "            \n",
    "            \n",
    "    return max_till_here\n",
    "\n",
    "nums = [-2,-3,4,-1,-2,1,5,-3]        # Time = O(n)  , Space = O(1)\n",
    "\n",
    "result = max_sum(nums)\n",
    "\n",
    "print(result)\n",
    "            \n",
    "            "
   ]
  }
 ],
 "metadata": {
  "kernelspec": {
   "display_name": "Python 3 (ipykernel)",
   "language": "python",
   "name": "python3"
  },
  "language_info": {
   "codemirror_mode": {
    "name": "ipython",
    "version": 3
   },
   "file_extension": ".py",
   "mimetype": "text/x-python",
   "name": "python",
   "nbconvert_exporter": "python",
   "pygments_lexer": "ipython3",
   "version": "3.11.5"
  }
 },
 "nbformat": 4,
 "nbformat_minor": 5
}
