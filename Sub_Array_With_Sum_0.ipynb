{
 "cells": [
  {
   "cell_type": "code",
   "execution_count": 3,
   "id": "166f91ad",
   "metadata": {},
   "outputs": [
    {
     "name": "stdout",
     "output_type": "stream",
     "text": [
      "True\n"
     ]
    }
   ],
   "source": [
    "def subArrayExists(arr):\n",
    "    \n",
    "        seen = set()\n",
    "        \n",
    "        current_sum = 0\n",
    "        \n",
    "        sub_array_exists = False\n",
    "        \n",
    "        for i in range(len(arr)):\n",
    "            \n",
    "            current_sum += arr[i]\n",
    "            \n",
    "            if current_sum == 0 or current_sum in seen:\n",
    "                \n",
    "                sub_array_exists = True\n",
    "                \n",
    "                return sub_array_exists\n",
    "            \n",
    "            \n",
    "            seen.add(current_sum)          # Time = O(n) , Space = O(n)\n",
    "            \n",
    "        \n",
    "        return sub_array_exists\n",
    "    \n",
    "\n",
    "nums = [4 ,2 ,-3 ,1 ,6]\n",
    "\n",
    "result = subArrayExists(nums)\n",
    "print(result)"
   ]
  }
 ],
 "metadata": {
  "kernelspec": {
   "display_name": "Python 3 (ipykernel)",
   "language": "python",
   "name": "python3"
  },
  "language_info": {
   "codemirror_mode": {
    "name": "ipython",
    "version": 3
   },
   "file_extension": ".py",
   "mimetype": "text/x-python",
   "name": "python",
   "nbconvert_exporter": "python",
   "pygments_lexer": "ipython3",
   "version": "3.11.5"
  }
 },
 "nbformat": 4,
 "nbformat_minor": 5
}
