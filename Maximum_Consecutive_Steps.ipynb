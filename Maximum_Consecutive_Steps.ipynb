{
 "cells": [
  {
   "cell_type": "code",
   "execution_count": 2,
   "id": "0664245a",
   "metadata": {},
   "outputs": [
    {
     "name": "stdout",
     "output_type": "stream",
     "text": [
      "1\n"
     ]
    }
   ],
   "source": [
    "def max_consecutive_steps(arr):\n",
    "    current_count = 0\n",
    "    max_count = 0\n",
    "    \n",
    "    for i in range(1,len(arr)):\n",
    "        \n",
    "        if arr[i]>arr[i-1]:\n",
    "            current_count +=1\n",
    "        else:\n",
    "            max_count = max(current_count,max_count)\n",
    "            current_count = 0\n",
    "            \n",
    "    return max_count\n",
    "\n",
    "\n",
    "nums = [1, 2, 2, 3, 2]\n",
    "\n",
    "result = max_consecutive_steps(nums)\n",
    "\n",
    "print(result)"
   ]
  }
 ],
 "metadata": {
  "kernelspec": {
   "display_name": "Python 3 (ipykernel)",
   "language": "python",
   "name": "python3"
  },
  "language_info": {
   "codemirror_mode": {
    "name": "ipython",
    "version": 3
   },
   "file_extension": ".py",
   "mimetype": "text/x-python",
   "name": "python",
   "nbconvert_exporter": "python",
   "pygments_lexer": "ipython3",
   "version": "3.11.5"
  }
 },
 "nbformat": 4,
 "nbformat_minor": 5
}
