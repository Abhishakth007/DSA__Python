{
 "cells": [
  {
   "cell_type": "code",
   "execution_count": 1,
   "id": "5ca7e220",
   "metadata": {},
   "outputs": [
    {
     "name": "stdout",
     "output_type": "stream",
     "text": [
      "[1, 3, 5, 6, 8]\n"
     ]
    }
   ],
   "source": [
    "def bubble_sort(arr):\n",
    "    \n",
    "    for i in range(len(arr)):\n",
    "        for j in range(i+1,len(arr)):\n",
    "            \n",
    "            if arr[i] > arr[j]:\n",
    "                \n",
    "                arr[i],arr[j] = arr[j],arr[i]\n",
    "\n",
    "                \n",
    "    return arr\n",
    "\n",
    "nums = [5,3,6,8,1]         # Time = O(n^2) , Space = O(1)   , Best Case Time Complexity = O(n)\n",
    "\n",
    "result = bubble_sort(nums)\n",
    "\n",
    "print(result)"
   ]
  },
  {
   "cell_type": "code",
   "execution_count": 15,
   "id": "469dd3a3",
   "metadata": {},
   "outputs": [
    {
     "name": "stdout",
     "output_type": "stream",
     "text": [
      "[1, 3, 5, 6, 8]\n"
     ]
    }
   ],
   "source": [
    "def quick_sort(arr):\n",
    "    \n",
    "    if len(arr) <= 1:\n",
    "        return arr\n",
    "    \n",
    "    \n",
    "    pivot = arr[(len(arr)) //2]\n",
    "    \n",
    "    left_sub_array = [x for x in arr if x < pivot]\n",
    "    \n",
    "    right_sub_array = [y for y in arr if y > pivot]\n",
    "    \n",
    "    pivot_sub_array = [z for z in arr if z == pivot]\n",
    "    \n",
    "    return quick_sort(left_sub_array) +  pivot_sub_array + quick_sort(right_sub_array)\n",
    "\n",
    "nums = [5,3,6,8,1]\n",
    "\n",
    "result = quick_sort(nums)     # Time = O(n logn) {Best / Average Cases}   or O(n^2) {Worst Cases} , Space = O(n)\n",
    "\n",
    "print(result)\n",
    "    "
   ]
  },
  {
   "cell_type": "code",
   "execution_count": 25,
   "id": "8c9cd4d8",
   "metadata": {},
   "outputs": [
    {
     "name": "stdout",
     "output_type": "stream",
     "text": [
      "[1, 2, 3, 5, 7, 8]\n"
     ]
    }
   ],
   "source": [
    "# Merge Sort\n",
    "\n",
    "def divide_array(arr):\n",
    "    \n",
    "    if len(arr) == 1:\n",
    "        \n",
    "        return arr\n",
    "    \n",
    "    mid = len(arr) //2\n",
    "    \n",
    "    left_array = divide_array(arr[:mid])\n",
    "    \n",
    "    right_array = divide_array(arr[mid:len(arr)])\n",
    "    \n",
    "    \n",
    "    return merge_sort(left_array,right_array)\n",
    "\n",
    "def merge_sort(arr1,arr2):\n",
    "    \n",
    "    merged_array = []\n",
    "    \n",
    "    left = 0\n",
    "    \n",
    "    right = 0\n",
    "    \n",
    "    while left < len(arr1) and right < len(arr2):\n",
    "        \n",
    "        if arr1[left] <= arr2[right]:\n",
    "            \n",
    "            merged_array.append(arr1[left])\n",
    "            \n",
    "            left+=1\n",
    "            \n",
    "        else:\n",
    "            merged_array.append(arr2[right])\n",
    "            \n",
    "            right+=1\n",
    "            \n",
    "        \n",
    "        \n",
    "    merged_array.extend(arr1[left:])\n",
    "    merged_array.extend(arr2[right:])\n",
    "        \n",
    "        \n",
    "    \n",
    "    return merged_array\n",
    "\n",
    "\n",
    "\n",
    "            \n",
    "\n",
    "nums = [3,5,2,1,8,7]\n",
    "\n",
    "result = divide_array(nums)      # Time = O(n logn)  , Space = O(1)\n",
    "\n",
    "print(result)\n",
    "    \n",
    "    "
   ]
  },
  {
   "cell_type": "code",
   "execution_count": 5,
   "id": "0753b62a",
   "metadata": {},
   "outputs": [
    {
     "name": "stdout",
     "output_type": "stream",
     "text": [
      "[1, 2, 3, 5, 7, 7, 8]\n"
     ]
    }
   ],
   "source": [
    "# Selection Sort\n",
    "\n",
    "def selection_sort(arr):\n",
    "    \n",
    "    for j in range(len(arr)):\n",
    "        \n",
    "        min_element = arr[j]\n",
    "        \n",
    "        for k in range(j+1,len(arr)):\n",
    "            \n",
    "            if arr[k] < min_element:\n",
    "                \n",
    "                arr[j],arr[k] = arr[k],arr[j]\n",
    "                \n",
    "                min_element = arr[k]\n",
    "                \n",
    "    return arr\n",
    "                \n",
    "\n",
    "nums = [3,5,2,1,8,7,7]            # Time = O(n^2)   , Space = O(1)\n",
    "\n",
    "result = selection_sort(nums)\n",
    "\n",
    "print(result)"
   ]
  },
  {
   "cell_type": "code",
   "execution_count": 7,
   "id": "3858fd3b",
   "metadata": {},
   "outputs": [
    {
     "name": "stdout",
     "output_type": "stream",
     "text": [
      "[0, 3, 4, 5, 8]\n"
     ]
    }
   ],
   "source": [
    "# Insertion_Sort\n",
    "\n",
    "def insertion_sort(arr):\n",
    "    \n",
    "    for i in range(1,len(arr)):\n",
    "        \n",
    "        current_element = arr[i]\n",
    "        \n",
    "        sorted_array_ending = i - 1\n",
    "        \n",
    "        while sorted_array_ending >= 0 and   current_element < arr[sorted_array_ending]:\n",
    "            \n",
    "            arr[sorted_array_ending + 1] = arr[sorted_array_ending]\n",
    "            \n",
    "            sorted_array_ending -= 1\n",
    "            \n",
    "        arr[sorted_array_ending + 1 ] = current_element               \n",
    "                \n",
    "    return arr\n",
    "\n",
    "\n",
    "                           # Time = O(n^2)  , Space = O(1)\n",
    "nums = [5,3,8,4,0]\n",
    "\n",
    "result = insertion_sort(nums)\n",
    "\n",
    "print(nums)    "
   ]
  }
 ],
 "metadata": {
  "kernelspec": {
   "display_name": "Python 3 (ipykernel)",
   "language": "python",
   "name": "python3"
  },
  "language_info": {
   "codemirror_mode": {
    "name": "ipython",
    "version": 3
   },
   "file_extension": ".py",
   "mimetype": "text/x-python",
   "name": "python",
   "nbconvert_exporter": "python",
   "pygments_lexer": "ipython3",
   "version": "3.11.5"
  }
 },
 "nbformat": 4,
 "nbformat_minor": 5
}
