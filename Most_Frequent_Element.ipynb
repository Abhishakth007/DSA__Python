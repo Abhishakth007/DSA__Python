{
 "cells": [
  {
   "cell_type": "code",
   "execution_count": 4,
   "id": "790b5b2d",
   "metadata": {},
   "outputs": [
    {
     "name": "stdout",
     "output_type": "stream",
     "text": [
      "Element : 20 , Frequency : 4\n"
     ]
    }
   ],
   "source": [
    "def most_frequent_element(arr):\n",
    "    count_dict = {}\n",
    "    for i in arr:\n",
    "        if i in count_dict:\n",
    "            count_dict[i]+=1\n",
    "        else:\n",
    "            count_dict[i]=1\n",
    "    \n",
    "    max_occurances = max(count_dict.values())\n",
    "    \n",
    "    for element,occurances in count_dict.items():\n",
    "        if occurances == max_occurances:\n",
    "            return element,occurances\n",
    "        \n",
    "\n",
    "nums = [10, 20, 10, 20, 30, 20, 20, 30, 30]\n",
    "element , occurances = most_frequent_element(nums)\n",
    "print(f\"Element : {element} , Frequency : {occurances}\")\n",
    "        \n",
    "        "
   ]
  }
 ],
 "metadata": {
  "kernelspec": {
   "display_name": "Python 3 (ipykernel)",
   "language": "python",
   "name": "python3"
  },
  "language_info": {
   "codemirror_mode": {
    "name": "ipython",
    "version": 3
   },
   "file_extension": ".py",
   "mimetype": "text/x-python",
   "name": "python",
   "nbconvert_exporter": "python",
   "pygments_lexer": "ipython3",
   "version": "3.11.5"
  }
 },
 "nbformat": 4,
 "nbformat_minor": 5
}
