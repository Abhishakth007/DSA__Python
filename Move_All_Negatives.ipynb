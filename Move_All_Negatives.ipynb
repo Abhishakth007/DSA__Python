{
 "cells": [
  {
   "cell_type": "code",
   "execution_count": 1,
   "id": "ba43f8ab",
   "metadata": {},
   "outputs": [
    {
     "name": "stdout",
     "output_type": "stream",
     "text": [
      "[-12, -6, -13, -5, -3, -7, 5, 6, 11]\n"
     ]
    }
   ],
   "source": [
    "def move_all_negatives(arr):\n",
    "    \n",
    "    left = 0\n",
    "    \n",
    "    right = len(arr)-1\n",
    "    \n",
    "    while left < right:\n",
    "        \n",
    "        if arr[right] <0 and arr[left] >0:\n",
    "            \n",
    "            arr[left] , arr[right] = arr[right] , arr[left]\n",
    "            \n",
    "            right -=1\n",
    "            left +=1\n",
    "            \n",
    "        elif arr[right] < 0 and arr[left] <0:\n",
    "            \n",
    "            left +=1\n",
    "        \n",
    "        elif arr[left] == 0:\n",
    "            \n",
    "            left+=1\n",
    "        \n",
    "        elif arr[left] <0 and arr[right] >0:\n",
    "            \n",
    "            left +=1\n",
    "            right -=1\n",
    "            \n",
    "    \n",
    "    return arr\n",
    "\n",
    "\n",
    "nums = [-12, 11, -13, -5, 6, -7, 5, -3, -6] # Time = O(n)  , Space = O(1)\n",
    "\n",
    "result = move_all_negatives(nums)\n",
    "\n",
    "print(result)\n",
    "            \n",
    "        "
   ]
  },
  {
   "cell_type": "code",
   "execution_count": 3,
   "id": "46de6bd5",
   "metadata": {},
   "outputs": [
    {
     "name": "stdout",
     "output_type": "stream",
     "text": [
      "[-12, -6, -13, -5, -3, -7, 5, 6, 11]\n"
     ]
    }
   ],
   "source": [
    "# Dutch National Flag Approach\n",
    "\n",
    "def move_all_negatives(arr):\n",
    "    \n",
    "    low = 0\n",
    "    \n",
    "    mid = 0\n",
    "    \n",
    "    high = len(arr)-1\n",
    "    \n",
    "    while mid <= high:\n",
    "        \n",
    "        if arr[mid] <0:\n",
    "            \n",
    "            arr[low] , arr[mid] = arr[mid] , arr[low]\n",
    "            \n",
    "            low +=1\n",
    "            mid+=1\n",
    "            \n",
    "        elif arr[mid] == 0:\n",
    "            \n",
    "            mid +=1\n",
    "            \n",
    "        elif arr[mid] >0:\n",
    "            \n",
    "            arr[mid] , arr[high] = arr[high] , arr[mid]\n",
    "            high -=1\n",
    "            \n",
    "    return arr\n",
    "\n",
    "\n",
    "\n",
    "nums = [-12, 11, -13, -5, 6, -7, 5, -3, -6]\n",
    "\n",
    "result = move_all_negatives(nums)\n",
    "\n",
    "print(result)\n",
    "            \n",
    "        "
   ]
  }
 ],
 "metadata": {
  "kernelspec": {
   "display_name": "Python 3 (ipykernel)",
   "language": "python",
   "name": "python3"
  },
  "language_info": {
   "codemirror_mode": {
    "name": "ipython",
    "version": 3
   },
   "file_extension": ".py",
   "mimetype": "text/x-python",
   "name": "python",
   "nbconvert_exporter": "python",
   "pygments_lexer": "ipython3",
   "version": "3.11.5"
  }
 },
 "nbformat": 4,
 "nbformat_minor": 5
}
