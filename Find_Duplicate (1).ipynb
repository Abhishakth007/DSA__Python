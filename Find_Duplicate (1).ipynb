{
 "cells": [
  {
   "cell_type": "code",
   "execution_count": 7,
   "id": "bea46a47",
   "metadata": {},
   "outputs": [
    {
     "name": "stdout",
     "output_type": "stream",
     "text": [
      "The Duplicate Element Is 8\n"
     ]
    }
   ],
   "source": [
    "def find_duplicate(arr):\n",
    "    \n",
    "    n = len(arr)-1\n",
    "    \n",
    "    actual_sum = sum(set(arr))\n",
    "    \n",
    "    array_sum = sum(arr)\n",
    "    \n",
    "    return array_sum - actual_sum\n",
    "\n",
    "\n",
    "\n",
    "nums = [9, 8, 2, 6, 1, 8, 5, 3]\n",
    "\n",
    "\n",
    "[1,2,3,5,6,8,8,9]\n",
    "\n",
    "\n",
    "result = find_duplicate(nums)\n",
    "\n",
    "print(\"The Duplicate Element Is\", result)\n",
    "\n",
    "\n"
   ]
  },
  {
   "cell_type": "code",
   "execution_count": 50,
   "id": "f63b8c4e",
   "metadata": {},
   "outputs": [
    {
     "name": "stdout",
     "output_type": "stream",
     "text": [
      "8\n"
     ]
    }
   ],
   "source": [
    "def find_duplicate(arr):\n",
    "\n",
    "    xor_of_array = 0\n",
    "    xor_of_range = 0\n",
    "    \n",
    "    for i in range(1,len(arr)):\n",
    "        xor_of_range ^= i\n",
    "        \n",
    "    for j in arr:\n",
    "        xor_of_array ^= j\n",
    "        \n",
    "              \n",
    "        \n",
    "    return xor_of_array ^ xor_of_range\n",
    "\n",
    "\n",
    "\n",
    "nums = [9, 8, 2, 6, 1, 8, 5, 3, 4, 7]    # Time = O(n)  , Space = O(1)\n",
    "\n",
    "result  = find_duplicate(nums)\n",
    "\n",
    "print(result)"
   ]
  },
  {
   "cell_type": "code",
   "execution_count": null,
   "id": "f5046ea5",
   "metadata": {},
   "outputs": [],
   "source": [
    "\n"
   ]
  }
 ],
 "metadata": {
  "kernelspec": {
   "display_name": "Python 3 (ipykernel)",
   "language": "python",
   "name": "python3"
  },
  "language_info": {
   "codemirror_mode": {
    "name": "ipython",
    "version": 3
   },
   "file_extension": ".py",
   "mimetype": "text/x-python",
   "name": "python",
   "nbconvert_exporter": "python",
   "pygments_lexer": "ipython3",
   "version": "3.11.5"
  }
 },
 "nbformat": 4,
 "nbformat_minor": 5
}
