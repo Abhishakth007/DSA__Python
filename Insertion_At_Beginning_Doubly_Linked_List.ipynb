{
 "cells": [
  {
   "cell_type": "code",
   "execution_count": 3,
   "id": "7555cc82",
   "metadata": {},
   "outputs": [
    {
     "name": "stdout",
     "output_type": "stream",
     "text": [
      "1 --> 2 --> 3 --> 4 --> 5 --> 6 --> Null\n"
     ]
    }
   ],
   "source": [
    "class Node():\n",
    "    \n",
    "    def __init__(self, data , prev = None,next = None):\n",
    "        \n",
    "        self.data = data\n",
    "        \n",
    "        self.prev = prev\n",
    "        \n",
    "        self.next = next\n",
    "        \n",
    "class Linked_List():\n",
    "    \n",
    "    def __init__(self,head = None):\n",
    "        \n",
    "        self.head = head\n",
    "        \n",
    "    \n",
    "    def insertion(self,value):\n",
    "        \n",
    "        node = Node(data = value)\n",
    "        \n",
    "        if self.head is None:\n",
    "            \n",
    "            self.head = node\n",
    "            \n",
    "            return\n",
    "        \n",
    "        node.next = self.head\n",
    "        \n",
    "        self.head.prev = node\n",
    "        \n",
    "        self.head = node\n",
    "        \n",
    "    def insert_multiple(self,list):\n",
    "        \n",
    "        for values in list:\n",
    "            \n",
    "            self.insertion(values)\n",
    "        \n",
    "    def display_linked_list(self):\n",
    "        \n",
    "        if self.head is None:\n",
    "            \n",
    "            print(\"Empty Linked List\")\n",
    "            \n",
    "            return\n",
    "        \n",
    "        current_node = self.head\n",
    "        \n",
    "        while current_node is not None:\n",
    "            \n",
    "            print(current_node.data , end = \" --> \")\n",
    "            \n",
    "            current_node = current_node.next\n",
    "            \n",
    "        print(\"Null\")                                    # Time = O(1)....Space = O(1)\n",
    "        \n",
    "ll = Linked_List()\n",
    "\n",
    "ll.insert_multiple([6,5,4,3,2,1])\n",
    "\n",
    "ll.display_linked_list()"
   ]
  }
 ],
 "metadata": {
  "kernelspec": {
   "display_name": "Python 3 (ipykernel)",
   "language": "python",
   "name": "python3"
  },
  "language_info": {
   "codemirror_mode": {
    "name": "ipython",
    "version": 3
   },
   "file_extension": ".py",
   "mimetype": "text/x-python",
   "name": "python",
   "nbconvert_exporter": "python",
   "pygments_lexer": "ipython3",
   "version": "3.11.5"
  }
 },
 "nbformat": 4,
 "nbformat_minor": 5
}
