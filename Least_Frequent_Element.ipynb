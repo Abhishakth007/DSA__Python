{
 "cells": [
  {
   "cell_type": "code",
   "execution_count": 2,
   "id": "a910c5f2",
   "metadata": {},
   "outputs": [
    {
     "name": "stdout",
     "output_type": "stream",
     "text": [
      "Element :  3\n",
      "Frequency :  2\n"
     ]
    }
   ],
   "source": [
    "def least_frequent(arr):\n",
    "    dict_count= {}\n",
    "    for i in arr:\n",
    "        if i in dict_count:\n",
    "            dict_count[i]+=1\n",
    "        else:\n",
    "            dict_count[i] =1\n",
    "        \n",
    "    min_frequency = min(dict_count.values())\n",
    "            \n",
    "    for element,frequency in dict_count.items():\n",
    "        if frequency == min_frequency:\n",
    "            return element,frequency\n",
    "        \n",
    "nums = [1, 3, 2, 1, 2, 2, 3, 1]\n",
    "element,frequency = least_frequent(nums)\n",
    "print(\"Element : \",element)\n",
    "print(\"Frequency : \",frequency)\n",
    "        "
   ]
  }
 ],
 "metadata": {
  "kernelspec": {
   "display_name": "Python 3 (ipykernel)",
   "language": "python",
   "name": "python3"
  },
  "language_info": {
   "codemirror_mode": {
    "name": "ipython",
    "version": 3
   },
   "file_extension": ".py",
   "mimetype": "text/x-python",
   "name": "python",
   "nbconvert_exporter": "python",
   "pygments_lexer": "ipython3",
   "version": "3.11.5"
  }
 },
 "nbformat": 4,
 "nbformat_minor": 5
}
