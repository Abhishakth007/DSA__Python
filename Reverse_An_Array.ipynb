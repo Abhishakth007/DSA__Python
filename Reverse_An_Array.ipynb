{
 "cells": [
  {
   "cell_type": "code",
   "execution_count": 5,
   "id": "48c21c88",
   "metadata": {},
   "outputs": [
    {
     "name": "stdout",
     "output_type": "stream",
     "text": [
      "[6, 5, 2, 1]\n"
     ]
    }
   ],
   "source": [
    "def reverse_an_array(arr):\n",
    "    \n",
    "    return arr[::-1]\n",
    "\n",
    "nums = [1,2,5,6]\n",
    "\n",
    "result = reverse_an_array(nums)  # Time = O(n) , Space = O(n)\n",
    "\n",
    "print(result)"
   ]
  },
  {
   "cell_type": "code",
   "execution_count": 8,
   "id": "3a95b919",
   "metadata": {},
   "outputs": [
    {
     "name": "stdout",
     "output_type": "stream",
     "text": [
      "6 5 2 1 "
     ]
    }
   ],
   "source": [
    "def reverse_an_array(arr):\n",
    "    \n",
    "    for i in range(len(arr)-1,-1,-1):\n",
    "        \n",
    "        print(arr[i],end = \" \")\n",
    "        \n",
    "nums = [1,2,5,6]\n",
    "\n",
    "reverse_an_array(nums)    # Time = O(n) , Space = O(1)\n",
    "\n"
   ]
  },
  {
   "cell_type": "code",
   "execution_count": 11,
   "id": "f2397cb1",
   "metadata": {},
   "outputs": [
    {
     "name": "stdout",
     "output_type": "stream",
     "text": [
      "[7, 6, 5, 2, 1]\n"
     ]
    }
   ],
   "source": [
    "def reverse_an_array(arr):\n",
    "    \n",
    "    left = 0\n",
    "    \n",
    "    right = len(arr)-1\n",
    "    \n",
    "    while left<right:\n",
    "        arr[left],arr[right] = arr[right],arr[left]\n",
    "        \n",
    "        right-=1\n",
    "        left +=1\n",
    "        \n",
    "    return arr\n",
    "\n",
    "nums = [1,2,5,6,7]\n",
    "\n",
    "result = reverse_an_array(nums)   # Time = O(n) , Space = O(1)\n",
    "\n",
    "print(result)\n"
   ]
  }
 ],
 "metadata": {
  "kernelspec": {
   "display_name": "Python 3 (ipykernel)",
   "language": "python",
   "name": "python3"
  },
  "language_info": {
   "codemirror_mode": {
    "name": "ipython",
    "version": 3
   },
   "file_extension": ".py",
   "mimetype": "text/x-python",
   "name": "python",
   "nbconvert_exporter": "python",
   "pygments_lexer": "ipython3",
   "version": "3.11.5"
  }
 },
 "nbformat": 4,
 "nbformat_minor": 5
}
