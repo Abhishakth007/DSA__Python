{
 "cells": [
  {
   "cell_type": "code",
   "execution_count": 4,
   "id": "83bfdd53",
   "metadata": {},
   "outputs": [
    {
     "name": "stdout",
     "output_type": "stream",
     "text": [
      "16\n"
     ]
    }
   ],
   "source": [
    "def third_largest_element(arr):\n",
    "    for i in range(0,2):\n",
    "        max_element = max(arr)\n",
    "        arr.remove(max_element)\n",
    "        \n",
    "    return max_element\n",
    "\n",
    "nums = [1, 14, 2, 16, 10, 20]\n",
    "result = third_largest_element(nums)  # Time = O(n)  , Space = O(1)\n",
    "\n",
    "print(result)\n",
    "    "
   ]
  },
  {
   "cell_type": "code",
   "execution_count": 9,
   "id": "a9dad9b7",
   "metadata": {},
   "outputs": [
    {
     "name": "stdout",
     "output_type": "stream",
     "text": [
      "14\n"
     ]
    }
   ],
   "source": [
    "# Another Approach\n",
    "\n",
    "def third_largest_element(arr):\n",
    "    first_highest = 0\n",
    "    second_highest = 0\n",
    "    third_highest = 0\n",
    "    \n",
    "    for i in arr:\n",
    "        if i > first_highest:\n",
    "            third_highest = second_highest\n",
    "            second_highest = first_highest\n",
    "            first_highest = i\n",
    "            \n",
    "        elif i > second_highest and i < first_highest:\n",
    "            third_highest = second_highest\n",
    "            second_highest = i\n",
    "        \n",
    "        elif i > third_highest and i < second_highest:\n",
    "            third_highest = i\n",
    "            \n",
    "            \n",
    "    return third_highest\n",
    "\n",
    "nums = [1, 14, 2, 16, 10, 20]\n",
    "result = third_largest_element(nums)  # Time = O(n)  , Space = O(1)\n",
    "\n",
    "print(result)"
   ]
  }
 ],
 "metadata": {
  "kernelspec": {
   "display_name": "Python 3 (ipykernel)",
   "language": "python",
   "name": "python3"
  },
  "language_info": {
   "codemirror_mode": {
    "name": "ipython",
    "version": 3
   },
   "file_extension": ".py",
   "mimetype": "text/x-python",
   "name": "python",
   "nbconvert_exporter": "python",
   "pygments_lexer": "ipython3",
   "version": "3.11.5"
  }
 },
 "nbformat": 4,
 "nbformat_minor": 5
}
