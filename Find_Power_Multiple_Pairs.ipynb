{
 "cells": [
  {
   "cell_type": "code",
   "execution_count": 8,
   "id": "2dd3c751",
   "metadata": {},
   "outputs": [
    {
     "name": "stdout",
     "output_type": "stream",
     "text": [
      "6\n"
     ]
    }
   ],
   "source": [
    "def power_multiple_pair(arr,k):\n",
    "    \n",
    "    final_count = 0\n",
    "    \n",
    "    arr.sort()\n",
    "    \n",
    "    for i in range(0,len(arr)):\n",
    "        \n",
    "        for j in range(i+1,len(arr)):\n",
    "            \n",
    "            x = 0\n",
    "            \n",
    "            while arr[i]* (k**x) <= arr[j]:\n",
    "                \n",
    "                if arr[i] * (k**x) == arr[j]:\n",
    "                \n",
    "                    final_count+=1\n",
    "                \n",
    "                x +=1\n",
    "                \n",
    "                \n",
    "            \n",
    "            \n",
    "                \n",
    "    return final_count\n",
    "\n",
    "\n",
    "nums = [3, 8, 9, 12, 18, 4, 24, 2, 6]\n",
    "\n",
    "k = 3\n",
    " \n",
    "result = power_multiple_pair(nums,k)    # Time = O(n^2) , Space = O(1)\n",
    "\n",
    "print(result)\n",
    "            \n",
    "            \n",
    "    "
   ]
  },
  {
   "cell_type": "code",
   "execution_count": null,
   "id": "71504351",
   "metadata": {},
   "outputs": [],
   "source": []
  }
 ],
 "metadata": {
  "kernelspec": {
   "display_name": "Python 3 (ipykernel)",
   "language": "python",
   "name": "python3"
  },
  "language_info": {
   "codemirror_mode": {
    "name": "ipython",
    "version": 3
   },
   "file_extension": ".py",
   "mimetype": "text/x-python",
   "name": "python",
   "nbconvert_exporter": "python",
   "pygments_lexer": "ipython3",
   "version": "3.11.5"
  }
 },
 "nbformat": 4,
 "nbformat_minor": 5
}
