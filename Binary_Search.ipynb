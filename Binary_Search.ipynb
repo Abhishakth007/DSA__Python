{
 "cells": [
  {
   "cell_type": "code",
   "execution_count": 17,
   "id": "c74715b9",
   "metadata": {},
   "outputs": [
    {
     "name": "stdout",
     "output_type": "stream",
     "text": [
      "The Element is at index : 3\n"
     ]
    }
   ],
   "source": [
    "def binary_search(arr,target):\n",
    "    left = 0\n",
    "    right = len(arr)-1\n",
    "    \n",
    "    while left <= right:\n",
    "        mid = (left+right)//2\n",
    "        \n",
    "        if arr[mid] == target:\n",
    "            return mid\n",
    "        elif  target > arr[mid]:\n",
    "            left = mid+1\n",
    "        else :\n",
    "            right = mid-1\n",
    "        \n",
    "    else:\n",
    "        return -1\n",
    "        \n",
    "            \n",
    "    \n",
    "    \n",
    "nums = [-10, -5, 0, 3, 7]\n",
    "target = 3\n",
    "result = binary_search(nums,target)\n",
    "\n",
    "if result == -1:\n",
    "    print(\"No Such Element Found...\")\n",
    "else:\n",
    "    print(\"The Element is at index :\",result)\n",
    "    "
   ]
  }
 ],
 "metadata": {
  "kernelspec": {
   "display_name": "Python 3 (ipykernel)",
   "language": "python",
   "name": "python3"
  },
  "language_info": {
   "codemirror_mode": {
    "name": "ipython",
    "version": 3
   },
   "file_extension": ".py",
   "mimetype": "text/x-python",
   "name": "python",
   "nbconvert_exporter": "python",
   "pygments_lexer": "ipython3",
   "version": "3.11.5"
  }
 },
 "nbformat": 4,
 "nbformat_minor": 5
}
