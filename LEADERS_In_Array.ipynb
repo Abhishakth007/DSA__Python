{
 "cells": [
  {
   "cell_type": "code",
   "execution_count": 6,
   "id": "569e5f68",
   "metadata": {},
   "outputs": [
    {
     "name": "stdout",
     "output_type": "stream",
     "text": [
      "17 5 2 "
     ]
    }
   ],
   "source": [
    "def leader_in_array(arr):\n",
    "    \n",
    "    leaders_array = []\n",
    "    \n",
    "    for i in range(0,len(arr)):\n",
    "        \n",
    "        for j in range(i+1,len(arr)):\n",
    "            \n",
    "            if arr[i] <= arr[j]:\n",
    "                \n",
    "                break\n",
    "                \n",
    "        if j == len(arr)-1:\n",
    "            \n",
    "            print(arr[i],end=\" \")\n",
    "                \n",
    "\n",
    "\n",
    "nums= [16, 17, 4, 3, 5, 2]      # Time = O(N^2)  , Space = O(1)\n",
    "\n",
    "leader_in_array(nums)"
   ]
  },
  {
   "cell_type": "code",
   "execution_count": 13,
   "id": "0e221800",
   "metadata": {},
   "outputs": [
    {
     "name": "stdout",
     "output_type": "stream",
     "text": [
      "2\n",
      "5\n",
      "17\n"
     ]
    }
   ],
   "source": [
    "# Another Approach\n",
    "\n",
    "def leader_in_array(arr):\n",
    "    \n",
    "    \n",
    "    \n",
    "    current_max = arr[-1]\n",
    "    \n",
    "    print(current_max)\n",
    "    \n",
    "    for i in range(len(arr)-2,-1,-1):\n",
    "        \n",
    "        if arr[i] > current_max:\n",
    "            \n",
    "            print(arr[i])\n",
    "            \n",
    "            current_max = arr[i]\n",
    "    \n",
    "    \n",
    "            \n",
    "            \n",
    "nums = [16, 17, 4, 3, 5, 2]     # Time = O(N)  , Space = O(1)\n",
    "\n",
    "leader_in_array(nums)\n",
    "        "
   ]
  }
 ],
 "metadata": {
  "kernelspec": {
   "display_name": "Python 3 (ipykernel)",
   "language": "python",
   "name": "python3"
  },
  "language_info": {
   "codemirror_mode": {
    "name": "ipython",
    "version": 3
   },
   "file_extension": ".py",
   "mimetype": "text/x-python",
   "name": "python",
   "nbconvert_exporter": "python",
   "pygments_lexer": "ipython3",
   "version": "3.11.5"
  }
 },
 "nbformat": 4,
 "nbformat_minor": 5
}
