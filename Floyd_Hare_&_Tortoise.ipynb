{
 "cells": [
  {
   "cell_type": "code",
   "execution_count": 7,
   "id": "76b9546d",
   "metadata": {},
   "outputs": [
    {
     "name": "stdout",
     "output_type": "stream",
     "text": [
      "1 --> 2 --> 3 --> 4 --> 5 --> Null\n"
     ]
    },
    {
     "data": {
      "text/plain": [
       "3"
      ]
     },
     "execution_count": 7,
     "metadata": {},
     "output_type": "execute_result"
    }
   ],
   "source": [
    "class Node():\n",
    "    \n",
    "    def __init__(self,data,next_node = None):\n",
    "        \n",
    "        self.data = data\n",
    "        \n",
    "        self.next_node = next_node\n",
    "        \n",
    "class Linked_List():\n",
    "    \n",
    "    def __init__(self,head = None):\n",
    "        \n",
    "        self.head = head\n",
    "        \n",
    "    def insertion(self,value):\n",
    "        \n",
    "        node = Node(value)\n",
    "        \n",
    "        if self.head is None:\n",
    "            \n",
    "            self.head = node\n",
    "            \n",
    "            return\n",
    "        \n",
    "        node.next_node= self.head\n",
    "        \n",
    "        self.head = node\n",
    "        \n",
    "    def insert_multiple(self,list):\n",
    "        \n",
    "        for values in list:\n",
    "            \n",
    "            self.insertion(values)\n",
    "            \n",
    "    def display_linked_list(self):\n",
    "        \n",
    "        if self.head is None:\n",
    "            \n",
    "            print(\"Linked_List is Empty\")\n",
    "            \n",
    "            return\n",
    "        \n",
    "        current_node = self.head\n",
    "        \n",
    "        while current_node :\n",
    "            \n",
    "            print(current_node.data , end = \" --> \")\n",
    "            \n",
    "            current_node = current_node.next_node\n",
    "        \n",
    "        print(\"Null\")\n",
    "        \n",
    "    def find_mid(self):\n",
    "        \n",
    "        if self.head is None:\n",
    "            \n",
    "            print(\"Empty Linked_List\")\n",
    "            \n",
    "            return\n",
    "        \n",
    "        slow = self.head\n",
    "        \n",
    "        fast = self.head\n",
    "        \n",
    "        while fast and fast.next_node:\n",
    "            \n",
    "            slow = slow.next_node\n",
    "            \n",
    "            fast = fast.next_node.next_node\n",
    "            \n",
    "        \n",
    "        return slow.data\n",
    "                                          # Time = O(n) ..... Space =O(1) \n",
    "        \n",
    "        \n",
    "            \n",
    "            \n",
    "ll = Linked_List()\n",
    "\n",
    "ll.insert_multiple([5,4,3,2,1])\n",
    "\n",
    "ll.display_linked_list()\n",
    "\n",
    "ll.find_mid()"
   ]
  }
 ],
 "metadata": {
  "kernelspec": {
   "display_name": "Python 3 (ipykernel)",
   "language": "python",
   "name": "python3"
  },
  "language_info": {
   "codemirror_mode": {
    "name": "ipython",
    "version": 3
   },
   "file_extension": ".py",
   "mimetype": "text/x-python",
   "name": "python",
   "nbconvert_exporter": "python",
   "pygments_lexer": "ipython3",
   "version": "3.11.5"
  }
 },
 "nbformat": 4,
 "nbformat_minor": 5
}
