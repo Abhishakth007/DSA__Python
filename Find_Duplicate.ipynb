{
 "cells": [
  {
   "cell_type": "code",
   "execution_count": 7,
   "id": "337a0c9f",
   "metadata": {},
   "outputs": [
    {
     "name": "stdout",
     "output_type": "stream",
     "text": [
      "The Duplicate Element Is 8\n"
     ]
    }
   ],
   "source": [
    "import math\n",
    "\n",
    "def find_duplicate(arr):\n",
    "    \n",
    "    n = len(arr)-1\n",
    "    \n",
    "    actual_sum = sum(set(arr))\n",
    "    \n",
    "    array_sum = sum(arr)\n",
    "    \n",
    "    return array_sum - actual_sum\n",
    "\n",
    "\n",
    "\n",
    "nums = [9, 8, 2, 6, 1, 8, 5, 3]\n",
    "\n",
    "\n",
    "[1,2,3,5,6,8,8,9]\n",
    "\n",
    "\n",
    "result = find_duplicate(nums)\n",
    "\n",
    "print(\"The Duplicate Element Is\", result)\n",
    "\n",
    "\n"
   ]
  },
  {
   "cell_type": "code",
   "execution_count": null,
   "id": "3331e5d0",
   "metadata": {},
   "outputs": [],
   "source": []
  },
  {
   "cell_type": "code",
   "execution_count": null,
   "id": "9865943f",
   "metadata": {},
   "outputs": [],
   "source": [
    "\n"
   ]
  }
 ],
 "metadata": {
  "kernelspec": {
   "display_name": "Python 3 (ipykernel)",
   "language": "python",
   "name": "python3"
  },
  "language_info": {
   "codemirror_mode": {
    "name": "ipython",
    "version": 3
   },
   "file_extension": ".py",
   "mimetype": "text/x-python",
   "name": "python",
   "nbconvert_exporter": "python",
   "pygments_lexer": "ipython3",
   "version": "3.11.5"
  }
 },
 "nbformat": 4,
 "nbformat_minor": 5
}
