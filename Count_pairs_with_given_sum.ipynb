{
 "cells": [
  {
   "cell_type": "code",
   "execution_count": 6,
   "id": "c64b1bb1",
   "metadata": {},
   "outputs": [
    {
     "name": "stdout",
     "output_type": "stream",
     "text": [
      "6\n"
     ]
    }
   ],
   "source": [
    "def count_pairs(arr,k):\n",
    "    \n",
    "    counter = 0\n",
    "    \n",
    "    seen = {}\n",
    "    \n",
    "    \n",
    "    for i in arr:\n",
    "        \n",
    "        if i in seen:\n",
    "            \n",
    "            seen[i] +=1\n",
    "            \n",
    "        else:\n",
    "            \n",
    "            seen[i] = 1\n",
    "    \n",
    "    for i in arr:\n",
    "        \n",
    "        required_sum = k-i\n",
    "        \n",
    "        if required_sum in seen:\n",
    "            \n",
    "            counter+= seen[required_sum]\n",
    "            \n",
    "            if required_sum == i:\n",
    "                \n",
    "                counter -=1    \n",
    "\n",
    "\n",
    "    return counter//2\n",
    "\n",
    "nums = [1,1,1, 1]     # Time = O(n)  , Space = O(n)\n",
    "\n",
    "k = 2\n",
    "\n",
    "result = count_pairs(nums,k)\n",
    "\n",
    "print(result)"
   ]
  }
 ],
 "metadata": {
  "kernelspec": {
   "display_name": "Python 3 (ipykernel)",
   "language": "python",
   "name": "python3"
  },
  "language_info": {
   "codemirror_mode": {
    "name": "ipython",
    "version": 3
   },
   "file_extension": ".py",
   "mimetype": "text/x-python",
   "name": "python",
   "nbconvert_exporter": "python",
   "pygments_lexer": "ipython3",
   "version": "3.11.5"
  }
 },
 "nbformat": 4,
 "nbformat_minor": 5
}
