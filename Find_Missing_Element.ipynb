{
 "cells": [
  {
   "cell_type": "code",
   "execution_count": 11,
   "id": "92653ec7",
   "metadata": {},
   "outputs": [
    {
     "name": "stdout",
     "output_type": "stream",
     "text": [
      "5\n"
     ]
    }
   ],
   "source": [
    "import math\n",
    "def find_missing(arr):\n",
    "    n = len(arr)+1\n",
    "    sum_of_n_numbers = n*(n+1) // 2\n",
    "    sum_of_array = sum(arr)\n",
    "    return sum_of_n_numbers - sum_of_array\n",
    "\n",
    "nums = [1, 2, 4, 6, 3, 7, 8]\n",
    "result = find_missing(nums)              # Time = O(n) , Space = O(1)\n",
    "print(result)"
   ]
  },
  {
   "cell_type": "code",
   "execution_count": 9,
   "id": "1ac9725f",
   "metadata": {},
   "outputs": [
    {
     "name": "stdout",
     "output_type": "stream",
     "text": [
      "Missing_Element is 5\n"
     ]
    }
   ],
   "source": [
    "# Another Approach\n",
    "\n",
    "arr = [1, 2, 4, 6, 3, 7, 8]\n",
    "\n",
    "highest_range = max(arr)\n",
    "\n",
    "\n",
    "emp_dict = {}\n",
    "\n",
    "for i in range(1,highest_range):\n",
    "    emp_dict[i] = arr.count(i)\n",
    "\n",
    "\n",
    "for i , j in emp_dict.items():\n",
    "    if j == 0:\n",
    "        print(\"Missing_Element is\", i)    # Time  = O(n.h) h = highest_value in the array , Space = O(h)"
   ]
  }
 ],
 "metadata": {
  "kernelspec": {
   "display_name": "Python 3 (ipykernel)",
   "language": "python",
   "name": "python3"
  },
  "language_info": {
   "codemirror_mode": {
    "name": "ipython",
    "version": 3
   },
   "file_extension": ".py",
   "mimetype": "text/x-python",
   "name": "python",
   "nbconvert_exporter": "python",
   "pygments_lexer": "ipython3",
   "version": "3.11.5"
  }
 },
 "nbformat": 4,
 "nbformat_minor": 5
}
