{
 "cells": [
  {
   "cell_type": "code",
   "execution_count": 2,
   "id": "a75f7ebd",
   "metadata": {},
   "outputs": [
    {
     "name": "stdout",
     "output_type": "stream",
     "text": [
      "7\n"
     ]
    }
   ],
   "source": [
    "def kth_smallest_element(arr,k):\n",
    "    \n",
    "    for i in range(1,k):\n",
    "        \n",
    "        min_element = min(arr)\n",
    "        \n",
    "        arr.remove(min_element)\n",
    "        \n",
    "    \n",
    "    return min(arr)\n",
    "\n",
    "nums = [7, 10, 4, 3, 20, 15]\n",
    "\n",
    "k = 3\n",
    "\n",
    "result = kth_smallest_element(nums,k) # Time = O(n*k)  , Space = O(1)\n",
    "\n",
    "print(result)\n",
    "    \n",
    "    "
   ]
  },
  {
   "cell_type": "code",
   "execution_count": 4,
   "id": "1363f972",
   "metadata": {},
   "outputs": [
    {
     "name": "stdout",
     "output_type": "stream",
     "text": [
      "7\n"
     ]
    }
   ],
   "source": [
    "#Another Approach\n",
    "\n",
    "def kth_smallest_element(arr,k):\n",
    "    \n",
    "    arr.sort()\n",
    "    \n",
    "    return arr[k-1]\n",
    "\n",
    "\n",
    "nums = [7, 10, 4, 3, 20, 15]     # Time = O(nlogn)  , Space = O(1)\n",
    "\n",
    "k = 3\n",
    "\n",
    "result = kth_smallest_element(nums,k)\n",
    "\n",
    "print(result)\n"
   ]
  },
  {
   "cell_type": "code",
   "execution_count": null,
   "id": "502c0875",
   "metadata": {},
   "outputs": [],
   "source": []
  }
 ],
 "metadata": {
  "kernelspec": {
   "display_name": "Python 3 (ipykernel)",
   "language": "python",
   "name": "python3"
  },
  "language_info": {
   "codemirror_mode": {
    "name": "ipython",
    "version": 3
   },
   "file_extension": ".py",
   "mimetype": "text/x-python",
   "name": "python",
   "nbconvert_exporter": "python",
   "pygments_lexer": "ipython3",
   "version": "3.11.5"
  }
 },
 "nbformat": 4,
 "nbformat_minor": 5
}
