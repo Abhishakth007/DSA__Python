{
 "cells": [
  {
   "cell_type": "code",
   "execution_count": 3,
   "id": "6c692142",
   "metadata": {},
   "outputs": [
    {
     "name": "stdout",
     "output_type": "stream",
     "text": [
      "[9, -2, 4, -1, 5, -5, 0, -3, 2]\n"
     ]
    }
   ],
   "source": [
    "def rearrange(arr, n):\n",
    "        \n",
    "        final_array = []\n",
    "        \n",
    "        positive_array = [x for x in arr if x >= 0]\n",
    "        \n",
    "        negative_array = [y for y in arr if y < 0]\n",
    "        \n",
    "        left = 0\n",
    "        \n",
    "        right = 0\n",
    "        \n",
    "        while left < len(positive_array) and right < len(negative_array):\n",
    "            \n",
    "            final_array.append(positive_array[left])\n",
    "            \n",
    "            final_array.append(negative_array[right])\n",
    "            \n",
    "            left +=1\n",
    "            \n",
    "            right +=1\n",
    "            \n",
    "        \n",
    "        final_array.extend(positive_array[left:])\n",
    "        \n",
    "        final_array.extend(negative_array[right:])\n",
    "        \n",
    "        return final_array\n",
    "    \n",
    "nums = [9, 4, -2, -1, 5, 0, -5, -3, 2]   #Time = O(n)   , Space = O(n)\n",
    "\n",
    "k = len(nums)a\n",
    "\n",
    "result = rearrange(nums,k)\n",
    "\n",
    "print(result)"
   ]
  }
 ],
 "metadata": {
  "kernelspec": {
   "display_name": "Python 3 (ipykernel)",
   "language": "python",
   "name": "python3"
  },
  "language_info": {
   "codemirror_mode": {
    "name": "ipython",
    "version": 3
   },
   "file_extension": ".py",
   "mimetype": "text/x-python",
   "name": "python",
   "nbconvert_exporter": "python",
   "pygments_lexer": "ipython3",
   "version": "3.11.5"
  }
 },
 "nbformat": 4,
 "nbformat_minor": 5
}
