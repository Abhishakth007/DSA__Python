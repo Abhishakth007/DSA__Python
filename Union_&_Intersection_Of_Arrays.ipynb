{
 "cells": [
  {
   "cell_type": "code",
   "execution_count": 14,
   "id": "37a931fb",
   "metadata": {},
   "outputs": [
    {
     "name": "stdout",
     "output_type": "stream",
     "text": [
      "Intersection Points :  3\n",
      "Intersection Points :  5\n",
      "Union : {1, 2, 3, 4, 5, 6, 7}\n"
     ]
    }
   ],
   "source": [
    "def union_and_intersection(arr1,arr2):\n",
    "    \n",
    "    \n",
    "    combined_array = arr1+arr2\n",
    "    \n",
    "    frequency_dict = {}\n",
    "    \n",
    "    for i in combined_array:\n",
    "        \n",
    "        if i in frequency_dict:\n",
    "            \n",
    "            frequency_dict[i]+=1\n",
    "        else:\n",
    "            \n",
    "            frequency_dict[i] = 1\n",
    "            \n",
    "    for key,values in frequency_dict.items():\n",
    "        \n",
    "        if values >= 2:\n",
    "            \n",
    "            print(\"Intersection Points : \",key)\n",
    "        \n",
    "     \n",
    "    return f\"Union : {set(arr1+arr2)}\"\n",
    "\n",
    "\n",
    "\n",
    "nums1 = [1, 3, 4, 5, 7]\n",
    "\n",
    "nums2 = [2, 3, 5, 6]\n",
    "\n",
    "result = union_and_intersection(nums1,nums2)    # Time  = O(n+m) , Space = O(n+m)    n = len(arr1) , m = len(arr2)\n",
    "\n",
    "print(result)\n"
   ]
  }
 ],
 "metadata": {
  "kernelspec": {
   "display_name": "Python 3 (ipykernel)",
   "language": "python",
   "name": "python3"
  },
  "language_info": {
   "codemirror_mode": {
    "name": "ipython",
    "version": 3
   },
   "file_extension": ".py",
   "mimetype": "text/x-python",
   "name": "python",
   "nbconvert_exporter": "python",
   "pygments_lexer": "ipython3",
   "version": "3.11.5"
  }
 },
 "nbformat": 4,
 "nbformat_minor": 5
}
