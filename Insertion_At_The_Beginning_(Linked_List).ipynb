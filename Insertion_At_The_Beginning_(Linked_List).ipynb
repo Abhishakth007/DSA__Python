{
 "cells": [
  {
   "cell_type": "code",
   "execution_count": 6,
   "id": "85002bf2",
   "metadata": {},
   "outputs": [
    {
     "name": "stdout",
     "output_type": "stream",
     "text": [
      "3 --> 2 --> 1 --> Null\n"
     ]
    }
   ],
   "source": [
    "class Node():\n",
    "    \n",
    "    def __init__(self,data,next_node = None):\n",
    "        \n",
    "        self.data = data\n",
    "        \n",
    "        self.next_node = next_node\n",
    "        \n",
    "class Linked_List():\n",
    "    \n",
    "    def __init__(self,head=None):\n",
    "        \n",
    "        self.head = head\n",
    "    \n",
    "    def insert_at_the_start(self,value):\n",
    "        \n",
    "        node = Node(value)\n",
    "        \n",
    "        if self.head is None:\n",
    "                        \n",
    "            self.head = node\n",
    "            \n",
    "            return   \n",
    "        \n",
    "        else:\n",
    "            \n",
    "            node.next_node = self.head\n",
    "            \n",
    "            self.head = node\n",
    "    \n",
    "    def display_linked_list(self):\n",
    "        \n",
    "        if self.head is None:\n",
    "            \n",
    "            print(\"Linked List Is Empty\")\n",
    "            \n",
    "            return\n",
    "        \n",
    "        current_node = self.head\n",
    "        \n",
    "        while True:\n",
    "            \n",
    "            print(current_node.data, end= \" --> \")\n",
    "            \n",
    "            if current_node.next_node is None:\n",
    "                \n",
    "                print(\"Null\")\n",
    "                \n",
    "                break\n",
    "            \n",
    "            current_node = current_node.next_node\n",
    "            \n",
    "\n",
    "ll = Linked_List()                 # Time = O(1)  , Space = O(1)   ....Insert at the beginning\n",
    "\n",
    "ll.insert_at_the_start(1)\n",
    "\n",
    "ll.insert_at_the_start(2)\n",
    "\n",
    "ll.insert_at_the_start(3)\n",
    "\n",
    "\n",
    "ll.display_linked_list()\n",
    "    \n",
    "    \n",
    "        \n",
    "        \n",
    "    "
   ]
  }
 ],
 "metadata": {
  "kernelspec": {
   "display_name": "Python 3 (ipykernel)",
   "language": "python",
   "name": "python3"
  },
  "language_info": {
   "codemirror_mode": {
    "name": "ipython",
    "version": 3
   },
   "file_extension": ".py",
   "mimetype": "text/x-python",
   "name": "python",
   "nbconvert_exporter": "python",
   "pygments_lexer": "ipython3",
   "version": "3.11.5"
  }
 },
 "nbformat": 4,
 "nbformat_minor": 5
}
