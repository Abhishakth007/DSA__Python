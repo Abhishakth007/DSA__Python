{
 "cells": [
  {
   "cell_type": "code",
   "execution_count": 7,
   "id": "8d68cca6",
   "metadata": {},
   "outputs": [
    {
     "name": "stdout",
     "output_type": "stream",
     "text": [
      "[9, 3, 5, 7]\n"
     ]
    }
   ],
   "source": [
    "def rotate_array(arr):\n",
    "    \n",
    "    last_element = arr[-1]\n",
    "    \n",
    "    for i in range(len(arr)-1,0,-1):\n",
    "        \n",
    "        arr[i] = arr[i-1]\n",
    "        \n",
    "        \n",
    "    arr[0] = last_element \n",
    "    \n",
    "    return arr\n",
    "    \n",
    "   \n",
    "   \n",
    "\n",
    "nums = [3,5,7,9]\n",
    "                                       # Time  = O(n)  , Space = O(1)\n",
    "result = rotate_array(nums)\n",
    "\n",
    "print(result)"
   ]
  },
  {
   "cell_type": "code",
   "execution_count": 15,
   "id": "e2b2d837",
   "metadata": {},
   "outputs": [
    {
     "name": "stdout",
     "output_type": "stream",
     "text": [
      "[6, 1, 2, 3, 4, 5]\n"
     ]
    }
   ],
   "source": [
    "# Another Approach\n",
    "\n",
    "def rotate_array_clockwise(arr):\n",
    "    \n",
    "    left = 0\n",
    "    \n",
    "    right = len(arr)-1\n",
    "    \n",
    "    while left<right:\n",
    "        \n",
    "        arr[left],arr[right] = arr[right],arr[left]\n",
    "        \n",
    "        left+=1\n",
    "                       \n",
    "            \n",
    "    return arr\n",
    "\n",
    "\n",
    "nums = [1,2,3,4,5,6]\n",
    "        \n",
    "result = rotate_array_clockwise(nums)\n",
    "                                               #Time = O(n)  , Space = O(1)\n",
    "print(result)\n",
    "        "
   ]
  },
  {
   "cell_type": "code",
   "execution_count": 28,
   "id": "e0f9ab94",
   "metadata": {},
   "outputs": [
    {
     "name": "stdout",
     "output_type": "stream",
     "text": [
      "[4, 5, 6, 1, 2, 3]\n"
     ]
    }
   ],
   "source": [
    "# Another Approach\n",
    "\n",
    "def rotate_array_clockwise(arr,k):\n",
    "    \n",
    "    n = len(arr)\n",
    "    \n",
    "    k = k % n\n",
    "    \n",
    "    arr.reverse()\n",
    "    \n",
    "    arr[k:] = arr[k:][::-1]\n",
    "    \n",
    "    arr[:k] = arr[:k][::-1]\n",
    "    \n",
    "    return arr\n",
    "    \n",
    "    \n",
    "\n",
    "nums = [1,2,3,4,5,6]\n",
    "\n",
    "k = 3\n",
    "                                                  # Time = O(n)  , Space = O(1)\n",
    "result = rotate_array_clockwise(nums,k)\n",
    "\n",
    "print(result)\n",
    "\n",
    "# 1,2,3,4,5----> 3,4,5,1,2 .....1st reverse = 5,4,3,2,1....2nd =  [:k][::-1]3,4,5  , [k:][::-1] 1,2....3,4,5,1,2"
   ]
  }
 ],
 "metadata": {
  "kernelspec": {
   "display_name": "Python 3 (ipykernel)",
   "language": "python",
   "name": "python3"
  },
  "language_info": {
   "codemirror_mode": {
    "name": "ipython",
    "version": 3
   },
   "file_extension": ".py",
   "mimetype": "text/x-python",
   "name": "python",
   "nbconvert_exporter": "python",
   "pygments_lexer": "ipython3",
   "version": "3.11.5"
  }
 },
 "nbformat": 4,
 "nbformat_minor": 5
}
