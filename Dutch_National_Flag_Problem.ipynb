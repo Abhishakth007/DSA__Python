{
 "cells": [
  {
   "cell_type": "code",
   "execution_count": 5,
   "id": "56144895",
   "metadata": {},
   "outputs": [
    {
     "name": "stdout",
     "output_type": "stream",
     "text": [
      "[0, 0, 0, 0, 1, 1, 1, 0, 1, 1, 2, 2]\n"
     ]
    }
   ],
   "source": [
    "def dutch_national_flag(arr):\n",
    "    \n",
    "    low = 0\n",
    "    \n",
    "    high = len(arr)-1\n",
    "    \n",
    "    mid = 0\n",
    "    \n",
    "    while mid <= high:\n",
    "        \n",
    "        if arr[mid] == 0:\n",
    "            \n",
    "            arr[low],arr[mid] = arr[mid], arr[low]\n",
    "            \n",
    "            mid+=1\n",
    "            \n",
    "            low+=1\n",
    "            \n",
    "        elif arr[mid] == 1:\n",
    "            \n",
    "            mid+=1\n",
    "        else:\n",
    "            \n",
    "            arr[mid] , arr[high] = arr[high] , arr[mid]\n",
    "\n",
    "            \n",
    "            high -=1\n",
    "            \n",
    "    return arr\n",
    "\n",
    "\n",
    "nums = [0, 1, 1, 0, 1, 2, 1, 2, 0, 0, 0, 1]     # Time = O(n) , Space = O(1)\n",
    "\n",
    "result = dutch_national_flag(nums)\n",
    "\n",
    "print(result)\n",
    "            "
   ]
  }
 ],
 "metadata": {
  "kernelspec": {
   "display_name": "Python 3 (ipykernel)",
   "language": "python",
   "name": "python3"
  },
  "language_info": {
   "codemirror_mode": {
    "name": "ipython",
    "version": 3
   },
   "file_extension": ".py",
   "mimetype": "text/x-python",
   "name": "python",
   "nbconvert_exporter": "python",
   "pygments_lexer": "ipython3",
   "version": "3.11.5"
  }
 },
 "nbformat": 4,
 "nbformat_minor": 5
}
