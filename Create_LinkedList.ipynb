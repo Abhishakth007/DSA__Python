{
 "cells": [
  {
   "cell_type": "code",
   "execution_count": 12,
   "id": "2f017738",
   "metadata": {},
   "outputs": [
    {
     "name": "stdout",
     "output_type": "stream",
     "text": [
      "1 --> 2 --> 3 --> Null\n"
     ]
    }
   ],
   "source": [
    "class LinkedList():\n",
    "    \n",
    "    def __init__(self,data,next_node = None):\n",
    "        \n",
    "        self.data = data\n",
    "        \n",
    "        self. next_node = next_node\n",
    "        \n",
    "    \n",
    "node1 = LinkedList('1')\n",
    "\n",
    "node2 = LinkedList('2')\n",
    "\n",
    "node3 = LinkedList('3')\n",
    "\n",
    "node1.next_node = node2\n",
    "\n",
    "node2.next_node = node3\n",
    "\n",
    "current_node = node1\n",
    "\n",
    "while True:\n",
    "    \n",
    "    print(current_node.data , end =\" --> \")\n",
    "    \n",
    "    if current_node.next_node is None:\n",
    "        \n",
    "        print(\"Null\")\n",
    "        \n",
    "        break\n",
    "        \n",
    "    else:\n",
    "        current_node = current_node.next_node\n",
    "\n",
    "        \n"
   ]
  },
  {
   "cell_type": "code",
   "execution_count": null,
   "id": "5db5902c",
   "metadata": {},
   "outputs": [],
   "source": []
  }
 ],
 "metadata": {
  "kernelspec": {
   "display_name": "Python 3 (ipykernel)",
   "language": "python",
   "name": "python3"
  },
  "language_info": {
   "codemirror_mode": {
    "name": "ipython",
    "version": 3
   },
   "file_extension": ".py",
   "mimetype": "text/x-python",
   "name": "python",
   "nbconvert_exporter": "python",
   "pygments_lexer": "ipython3",
   "version": "3.11.5"
  }
 },
 "nbformat": 4,
 "nbformat_minor": 5
}
