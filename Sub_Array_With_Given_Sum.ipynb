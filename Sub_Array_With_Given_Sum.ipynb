{
 "cells": [
  {
   "cell_type": "code",
   "execution_count": 13,
   "id": "3538edd9",
   "metadata": {},
   "outputs": [
    {
     "name": "stdout",
     "output_type": "stream",
     "text": [
      "(1, 4)\n"
     ]
    }
   ],
   "source": [
    "def sub_array_with_sum(arr,k):\n",
    "    \n",
    "    start_index = 0\n",
    "    \n",
    "    current_sum = 0\n",
    "    \n",
    "    for i in range(0,len(arr)):  \n",
    "        \n",
    "        if current_sum == k:\n",
    "            \n",
    "            return start_index , i\n",
    "        \n",
    "        elif current_sum  > k :\n",
    "            \n",
    "            while current_sum > k:\n",
    "                \n",
    "                current_sum -= arr[start_index]\n",
    "                \n",
    "                start_index +=1\n",
    "                \n",
    "                if current_sum == k:\n",
    "                    \n",
    "                    return start_index , i-1\n",
    "            \n",
    "        else:\n",
    "            \n",
    "            current_sum += arr[i]\n",
    "            \n",
    "nums = [1, 4, 0, 0, 3, 10, 5]      # Time = O(n) , Space = O(1)\n",
    "\n",
    "k = 7\n",
    "\n",
    "result = sub_array_with_sum(nums,k)\n",
    "\n",
    "print(result)  \n",
    "        "
   ]
  }
 ],
 "metadata": {
  "kernelspec": {
   "display_name": "Python 3 (ipykernel)",
   "language": "python",
   "name": "python3"
  },
  "language_info": {
   "codemirror_mode": {
    "name": "ipython",
    "version": 3
   },
   "file_extension": ".py",
   "mimetype": "text/x-python",
   "name": "python",
   "nbconvert_exporter": "python",
   "pygments_lexer": "ipython3",
   "version": "3.11.5"
  }
 },
 "nbformat": 4,
 "nbformat_minor": 5
}
