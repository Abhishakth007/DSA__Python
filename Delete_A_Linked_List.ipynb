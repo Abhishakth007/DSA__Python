{
 "cells": [
  {
   "cell_type": "code",
   "execution_count": 5,
   "id": "91ca493e",
   "metadata": {},
   "outputs": [
    {
     "name": "stdout",
     "output_type": "stream",
     "text": [
      "4 --> 3 --> 2 --> 1 --> Null\n",
      "Empty Linked List\n"
     ]
    }
   ],
   "source": [
    "class Node():\n",
    "    \n",
    "    def __init__(self,data,next_node = None):\n",
    "        \n",
    "        self.data = data\n",
    "        \n",
    "        self.next_node = next_node\n",
    "        \n",
    "class Linked_List():\n",
    "    \n",
    "    def __init__(self,head=None):\n",
    "        \n",
    "        self.head = head\n",
    "        \n",
    "    def insertion(self,value):\n",
    "        \n",
    "        node = Node(value)\n",
    "        \n",
    "        if self.head is None:\n",
    "            \n",
    "            self.head = node\n",
    "            \n",
    "            return\n",
    "        \n",
    "        node.next_node = self.head\n",
    "        \n",
    "        self.head = node\n",
    "        \n",
    "    def insert_multiple(self,list):\n",
    "        \n",
    "        for values in list:\n",
    "            \n",
    "            self.insertion(values)\n",
    "            \n",
    "    def delete_entire_linkedlist(self):\n",
    "        \n",
    "        self.head = None\n",
    "                \n",
    "        \n",
    "    def display_linked_list(self):\n",
    "        \n",
    "        if self.head is None :\n",
    "            \n",
    "            print(\"Empty Linked List\")\n",
    "            \n",
    "            return\n",
    "        \n",
    "        current_node = self.head\n",
    "        \n",
    "        while current_node is not None:\n",
    "            \n",
    "            print(current_node.data,end = ' --> ')\n",
    "            \n",
    "            current_node = current_node.next_node\n",
    "            \n",
    "        print(\"Null\")\n",
    "        \n",
    "        return                                          # Time = O(1) ... Space = O(1)\n",
    "    \n",
    "\n",
    "ll = Linked_List()\n",
    "\n",
    "ll.insert_multiple([1,2,3,4])\n",
    "\n",
    "ll.display_linked_list()\n",
    "\n",
    "ll.delete_entire_linkedlist()\n",
    "\n",
    "ll.display_linked_list()"
   ]
  }
 ],
 "metadata": {
  "kernelspec": {
   "display_name": "Python 3 (ipykernel)",
   "language": "python",
   "name": "python3"
  },
  "language_info": {
   "codemirror_mode": {
    "name": "ipython",
    "version": 3
   },
   "file_extension": ".py",
   "mimetype": "text/x-python",
   "name": "python",
   "nbconvert_exporter": "python",
   "pygments_lexer": "ipython3",
   "version": "3.11.5"
  }
 },
 "nbformat": 4,
 "nbformat_minor": 5
}
