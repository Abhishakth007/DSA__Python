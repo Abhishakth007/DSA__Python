{
 "cells": [
  {
   "cell_type": "code",
   "execution_count": 1,
   "id": "4732f34b",
   "metadata": {},
   "outputs": [
    {
     "name": "stdout",
     "output_type": "stream",
     "text": [
      "1\n"
     ]
    }
   ],
   "source": [
    "def lost_element(arr1,arr2):\n",
    "    sum_of_arr1 = sum(arr1)\n",
    "    sum_of_arr2 = sum(arr2)\n",
    "    \n",
    "    return sum_of_arr1 - sum_of_arr2\n",
    "\n",
    "\n",
    "nums1 = [1, 4, 5, 7, 9]\n",
    "nums2 = [4, 5, 7, 9]\n",
    "\n",
    "result = lost_element(nums1,nums2)   # Time = O(n)  , Space = O(1)\n",
    "\n",
    "print(result)"
   ]
  },
  {
   "cell_type": "code",
   "execution_count": 3,
   "id": "c42d7152",
   "metadata": {},
   "outputs": [
    {
     "name": "stdout",
     "output_type": "stream",
     "text": [
      "4\n"
     ]
    }
   ],
   "source": [
    "# Another Approach\n",
    "\n",
    "def lost_element(arr1,arr2):\n",
    "    xor_of_arr = 0\n",
    "    for i in arr1:\n",
    "        xor_of_arr ^= i\n",
    "    \n",
    "    for j in arr2:\n",
    "        xor_of_arr ^= j          # Time = O(n)  , Space = O(1)\n",
    "        \n",
    "    \n",
    "    return xor_of_arr\n",
    "\n",
    "nums1 = [1, 4, 5, 7, 9]\n",
    "nums2 = [1,5, 7, 9]\n",
    "\n",
    "result = lost_element(nums1,nums2) \n",
    "\n",
    "print(result)\n",
    "    \n",
    "        \n",
    "        "
   ]
  }
 ],
 "metadata": {
  "kernelspec": {
   "display_name": "Python 3 (ipykernel)",
   "language": "python",
   "name": "python3"
  },
  "language_info": {
   "codemirror_mode": {
    "name": "ipython",
    "version": 3
   },
   "file_extension": ".py",
   "mimetype": "text/x-python",
   "name": "python",
   "nbconvert_exporter": "python",
   "pygments_lexer": "ipython3",
   "version": "3.11.5"
  }
 },
 "nbformat": 4,
 "nbformat_minor": 5
}
