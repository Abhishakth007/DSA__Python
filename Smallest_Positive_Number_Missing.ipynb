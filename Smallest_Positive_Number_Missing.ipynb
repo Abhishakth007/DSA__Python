{
 "cells": [
  {
   "cell_type": "code",
   "execution_count": 1,
   "id": "44cd9f26",
   "metadata": {},
   "outputs": [
    {
     "name": "stdout",
     "output_type": "stream",
     "text": [
      "2\n"
     ]
    }
   ],
   "source": [
    "def smallest_missing(arr):\n",
    "    \n",
    "    positive_numbers = set()\n",
    "    \n",
    "    for i in arr:\n",
    "        \n",
    "        if i > 0:\n",
    "            \n",
    "            positive_numbers.add(i)\n",
    "    \n",
    "    smallest_number = 1\n",
    "    \n",
    "    while smallest_number in positive_numbers:\n",
    "        \n",
    "        smallest_number +=1\n",
    "        \n",
    "    return smallest_number\n",
    "\n",
    "nums = [3, 4, -1, 1]\n",
    "\n",
    "result = smallest_missing(nums)     # Time = O(n)  , Space = O(n)\n",
    "\n",
    "print(result)"
   ]
  }
 ],
 "metadata": {
  "kernelspec": {
   "display_name": "Python 3 (ipykernel)",
   "language": "python",
   "name": "python3"
  },
  "language_info": {
   "codemirror_mode": {
    "name": "ipython",
    "version": 3
   },
   "file_extension": ".py",
   "mimetype": "text/x-python",
   "name": "python",
   "nbconvert_exporter": "python",
   "pygments_lexer": "ipython3",
   "version": "3.11.5"
  }
 },
 "nbformat": 4,
 "nbformat_minor": 5
}
