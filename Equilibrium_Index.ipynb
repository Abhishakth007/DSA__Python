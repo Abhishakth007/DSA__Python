{
 "cells": [
  {
   "cell_type": "code",
   "execution_count": 3,
   "id": "81630440",
   "metadata": {},
   "outputs": [
    {
     "name": "stdout",
     "output_type": "stream",
     "text": [
      "3\n"
     ]
    }
   ],
   "source": [
    "def equilibrium_index(arr):\n",
    "    low = 0\n",
    "    high = len(arr)-1\n",
    "    \n",
    "    mid = (low+high)//2\n",
    "    \n",
    "    while low<= high:\n",
    "        \n",
    "        \n",
    "        left_array_sum = sum(arr[:mid])\n",
    "        right_array_sum = sum(arr[mid+1:])\n",
    "        \n",
    "        if left_array_sum == right_array_sum:\n",
    "            return mid\n",
    "        elif left_array_sum > right_array_sum:\n",
    "            mid -=1\n",
    "        else:\n",
    "            mid+=1\n",
    "    else:\n",
    "        return -1\n",
    "    \n",
    "    \n",
    "nums = [1, 7, 3, 6, 5, 6]\n",
    "\n",
    "result = equilibrium_index(nums)  # Time = O(n^2) , Space = O(1)\n",
    "\n",
    "if result == -1:\n",
    "    print(\"No Equilibrium\")\n",
    "else:\n",
    "    print(result)\n",
    "            "
   ]
  },
  {
   "cell_type": "code",
   "execution_count": 5,
   "id": "07367bc4",
   "metadata": {},
   "outputs": [
    {
     "name": "stdout",
     "output_type": "stream",
     "text": [
      "3\n"
     ]
    }
   ],
   "source": [
    "# Another Approach\n",
    "\n",
    "def equilibrium_index(arr):\n",
    "    \n",
    "    total_sum = sum(arr)\n",
    "    \n",
    "    left_sum =0 \n",
    "    \n",
    "    for i in range(len(arr)):\n",
    "        \n",
    "        total_sum -= arr[i]\n",
    "        \n",
    "        if total_sum == left_sum:\n",
    "            \n",
    "            return i\n",
    "        \n",
    "        left_sum+=arr[i]\n",
    "        \n",
    "    else:\n",
    "        \n",
    "        return -1\n",
    "        \n",
    "\n",
    "    \n",
    "nums = [1, 7, 3, 6, 5, 6]\n",
    "\n",
    "result = equilibrium_index(nums)   # Time = O(N)  , Space = O(1)\n",
    "\n",
    "print(result)"
   ]
  }
 ],
 "metadata": {
  "kernelspec": {
   "display_name": "Python 3 (ipykernel)",
   "language": "python",
   "name": "python3"
  },
  "language_info": {
   "codemirror_mode": {
    "name": "ipython",
    "version": 3
   },
   "file_extension": ".py",
   "mimetype": "text/x-python",
   "name": "python",
   "nbconvert_exporter": "python",
   "pygments_lexer": "ipython3",
   "version": "3.11.5"
  }
 },
 "nbformat": 4,
 "nbformat_minor": 5
}
