{
 "cells": [
  {
   "cell_type": "code",
   "execution_count": 19,
   "id": "ef23dc3e",
   "metadata": {},
   "outputs": [
    {
     "name": "stdout",
     "output_type": "stream",
     "text": [
      "(4, 2)\n"
     ]
    }
   ],
   "source": [
    "# X – Y = sqrt((X+Y)2 – 4*XY)\n",
    "# X + Y = sum(array) - sum(n_numbers)\n",
    "\n",
    "import math\n",
    "\n",
    "def two_repeating_elements(arr):\n",
    "    \n",
    "    n = len(arr) -2\n",
    "    \n",
    "    sum_of_repeating_elements = sum(arr) - ((n*(n+1)) // 2)\n",
    "    \n",
    "    product_of_array = 1\n",
    "    \n",
    "    product_of_n_numbers = fact(n)\n",
    "    \n",
    "    \n",
    "    \n",
    "    for i in arr:\n",
    "        \n",
    "        product_of_array *= i\n",
    "        \n",
    "    product_of_repeating_elements =   product_of_array // product_of_n_numbers\n",
    "        \n",
    "    \n",
    "    difference_of_repeating_elements = math.sqrt(sum_of_repeating_elements**2 - 4 *  product_of_repeating_elements)\n",
    "    \n",
    "    first_repeating_element = (sum_of_repeating_elements + difference_of_repeating_elements) //2\n",
    "    \n",
    "    second_repeating_element = (sum_of_repeating_elements - difference_of_repeating_elements)//2\n",
    "    \n",
    "    \n",
    "    return int(first_repeating_element),int(second_repeating_element)\n",
    "\n",
    "\n",
    "def fact(n):\n",
    "    \n",
    "    factorial = 1\n",
    "    \n",
    "    for i in range(1,n+1):\n",
    "        \n",
    "        factorial *= i\n",
    "        \n",
    "    return factorial\n",
    "\n",
    "        \n",
    "\n",
    "\n",
    "nums = [4, 2, 4, 5, 2, 3, 1]\n",
    "\n",
    "result = two_repeating_elements(nums)    # Time = O(n) , Space = O(1)\n",
    "\n",
    "print(result)\n",
    "    \n"
   ]
  },
  {
   "cell_type": "code",
   "execution_count": 36,
   "id": "83be6ffc",
   "metadata": {},
   "outputs": [
    {
     "name": "stdout",
     "output_type": "stream",
     "text": [
      "4 2 "
     ]
    }
   ],
   "source": [
    "# Another Approach\n",
    "\n",
    "def two_repeating_elements(arr):\n",
    "    \n",
    "    for i in range(len(arr)):\n",
    "        \n",
    "        if arr[abs(arr[i])] > 0:\n",
    "            arr[abs(arr[i])] *= -1\n",
    "        else:\n",
    "            print(abs(arr[i]),end = \" \")\n",
    "\n",
    "            \n",
    "nums = [4, 2, 4, 5, 2, 3, 1]\n",
    "\n",
    "result = two_repeating_elements(nums)    # Time = O(n) , Space = O(1)\n"
   ]
  },
  {
   "cell_type": "code",
   "execution_count": null,
   "id": "81a7e3cd",
   "metadata": {},
   "outputs": [],
   "source": []
  }
 ],
 "metadata": {
  "kernelspec": {
   "display_name": "Python 3 (ipykernel)",
   "language": "python",
   "name": "python3"
  },
  "language_info": {
   "codemirror_mode": {
    "name": "ipython",
    "version": 3
   },
   "file_extension": ".py",
   "mimetype": "text/x-python",
   "name": "python",
   "nbconvert_exporter": "python",
   "pygments_lexer": "ipython3",
   "version": "3.11.5"
  }
 },
 "nbformat": 4,
 "nbformat_minor": 5
}
