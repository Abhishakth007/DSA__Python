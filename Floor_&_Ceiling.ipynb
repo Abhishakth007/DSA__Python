{
 "cells": [
  {
   "cell_type": "code",
   "execution_count": 27,
   "id": "27febc25",
   "metadata": {},
   "outputs": [
    {
     "name": "stdout",
     "output_type": "stream",
     "text": [
      "The Floor and Ceil Of Given Element = (None, 1)\n"
     ]
    }
   ],
   "source": [
    "def floor_and_ceil(arr,k):\n",
    "    low = 0\n",
    "    high = len(arr)-1\n",
    "    floor = None\n",
    "    ceil = None\n",
    "    if k > max(arr):\n",
    "        floor = arr[-1]\n",
    "#         ceil = print(\"No Ceil Element\")\n",
    "        return floor,ceil\n",
    "    elif k < min(arr):\n",
    "#         floor = print(\"No Floor Element\")\n",
    "        ceil = arr[0]\n",
    "        return floor,ceil\n",
    "    \n",
    "    \n",
    "    while low <= high:\n",
    "        \n",
    "        mid = (low+high)//2\n",
    "        \n",
    "        if arr[mid] == k:\n",
    "            return k,k\n",
    "        elif arr[mid] > k:\n",
    "            floor = arr[mid]\n",
    "            high = mid-1\n",
    "        elif arr[mid] < k:\n",
    "            ceil = arr[mid]\n",
    "            low = mid +1\n",
    "   \n",
    "    return ceil,floor\n",
    "    \n",
    "nums = [1, 2, 8, 10, 10, 12, 19]\n",
    "k = 0\n",
    "result = floor_and_ceil(nums,k)\n",
    "\n",
    "print(\"The Floor and Ceil Of Given Element =\",result)"
   ]
  }
 ],
 "metadata": {
  "kernelspec": {
   "display_name": "Python 3 (ipykernel)",
   "language": "python",
   "name": "python3"
  },
  "language_info": {
   "codemirror_mode": {
    "name": "ipython",
    "version": 3
   },
   "file_extension": ".py",
   "mimetype": "text/x-python",
   "name": "python",
   "nbconvert_exporter": "python",
   "pygments_lexer": "ipython3",
   "version": "3.11.5"
  }
 },
 "nbformat": 4,
 "nbformat_minor": 5
}
