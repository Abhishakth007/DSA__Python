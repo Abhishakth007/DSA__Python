{
 "cells": [
  {
   "cell_type": "code",
   "execution_count": 7,
   "id": "05e76118",
   "metadata": {},
   "outputs": [
    {
     "name": "stdout",
     "output_type": "stream",
     "text": [
      "[20, 80]\n"
     ]
    }
   ],
   "source": [
    "def find_common_elements(arr1,arr2,arr3):\n",
    "    set2 = set(arr2)\n",
    "    set3 = set(arr3)\n",
    "    commons_list = [i for i in arr1 if i in set2 and set3]\n",
    "    \n",
    "    return commons_list\n",
    "\n",
    "nums1 = [1, 5, 10, 20, 40, 80]\n",
    "nums2 = [6, 7, 20, 80, 100]\n",
    "nums3 = [1, 5, 10, 20, 40, 80]\n",
    "result = find_common_elements(nums1,nums2,nums3)   # Time = O(n+m+k) , Space = O(n+m+k)\n",
    "print(result)\n",
    "            "
   ]
  },
  {
   "cell_type": "code",
   "execution_count": 5,
   "id": "ed1bdec1",
   "metadata": {},
   "outputs": [
    {
     "name": "stdout",
     "output_type": "stream",
     "text": [
      "[20, 80]\n"
     ]
    }
   ],
   "source": [
    "#Another Approach\n",
    "\n",
    "def find_common_elements(arr1,arr2,arr3):\n",
    "    reference_list = []\n",
    "    final_list = []\n",
    "    \n",
    "    for i in arr1:\n",
    "        if i in arr2:\n",
    "            reference_list.append(i)\n",
    "            \n",
    "    for j in reference_list:\n",
    "        if j in arr3:\n",
    "            final_list.append(j)\n",
    "            \n",
    "    return final_list\n",
    "\n",
    "nums1 = [1, 5, 10, 20, 40, 80]\n",
    "nums2 = [6, 7, 20, 80, 100]\n",
    "nums3 = [1, 5, 10, 20, 40, 80]\n",
    "result = find_common_elements(nums1,nums2,nums3)  # Time = O(N(m+k)) ,  Space = O(N) + O(N) = O(N) \n",
    "\n",
    "print(result)\n"
   ]
  }
 ],
 "metadata": {
  "kernelspec": {
   "display_name": "Python 3 (ipykernel)",
   "language": "python",
   "name": "python3"
  },
  "language_info": {
   "codemirror_mode": {
    "name": "ipython",
    "version": 3
   },
   "file_extension": ".py",
   "mimetype": "text/x-python",
   "name": "python",
   "nbconvert_exporter": "python",
   "pygments_lexer": "ipython3",
   "version": "3.11.5"
  }
 },
 "nbformat": 4,
 "nbformat_minor": 5
}
