{
 "cells": [
  {
   "cell_type": "code",
   "execution_count": 13,
   "id": "ffa3f62e",
   "metadata": {},
   "outputs": [
    {
     "name": "stdout",
     "output_type": "stream",
     "text": [
      "3\n"
     ]
    }
   ],
   "source": [
    "def pairs_with_max_sum(arr):\n",
    "    \n",
    "    first_max_number = 0\n",
    "    \n",
    "    second_max_number = 0\n",
    "    \n",
    "\n",
    "    \n",
    "    for i in arr:\n",
    "        \n",
    "        if i >= first_max_number:\n",
    "            \n",
    "            second_max_number = first_max_number\n",
    "            \n",
    "            first_max_number = i\n",
    "            \n",
    "    \n",
    "    max_sum = first_max_number + second_max_number\n",
    "    \n",
    "    counter = 0\n",
    "    \n",
    "    seen = {}\n",
    "    \n",
    "    for i in arr:\n",
    "        \n",
    "        if i in seen:\n",
    "            \n",
    "            seen[i] +=1\n",
    "            \n",
    "        else:\n",
    "            \n",
    "            seen[i] = 1\n",
    "            \n",
    "    for j in arr:\n",
    "        \n",
    "        required_sum = max_sum - j\n",
    "        \n",
    "        if required_sum in seen:\n",
    "            \n",
    "            counter += seen[required_sum]\n",
    "            \n",
    "            if j == required_sum:\n",
    "                \n",
    "                counter -= 1\n",
    "            \n",
    "            \n",
    "            \n",
    "        \n",
    "    \n",
    "    return counter //2\n",
    "            \n",
    "        \n",
    "\n",
    "\n",
    "nums = [1, 1, 1, 2, 2, 2]\n",
    "                                          # Time = O(n)  , Space = O(n)\n",
    "result = pairs_with_max_sum(nums)\n",
    "\n",
    "print(result)"
   ]
  }
 ],
 "metadata": {
  "kernelspec": {
   "display_name": "Python 3 (ipykernel)",
   "language": "python",
   "name": "python3"
  },
  "language_info": {
   "codemirror_mode": {
    "name": "ipython",
    "version": 3
   },
   "file_extension": ".py",
   "mimetype": "text/x-python",
   "name": "python",
   "nbconvert_exporter": "python",
   "pygments_lexer": "ipython3",
   "version": "3.11.5"
  }
 },
 "nbformat": 4,
 "nbformat_minor": 5
}
