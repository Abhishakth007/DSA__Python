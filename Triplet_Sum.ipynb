{
 "cells": [
  {
   "cell_type": "code",
   "execution_count": 15,
   "id": "2787dbbf",
   "metadata": {},
   "outputs": [
    {
     "name": "stdout",
     "output_type": "stream",
     "text": [
      "(3, 9, 12)\n"
     ]
    }
   ],
   "source": [
    "def triplet_sum(arr,k):\n",
    "    \n",
    "        arr.sort()\n",
    "\n",
    "\n",
    "        for i in range(0,len(arr)-2):\n",
    "\n",
    "            l = i +1\n",
    "\n",
    "            r = len(arr) -1\n",
    "\n",
    "            while l<r:\n",
    "                current_sum = arr[i] + arr[l] + arr[r]\n",
    "\n",
    "                if current_sum == k:\n",
    "\n",
    "                    return arr[i],arr[l],arr[r]         \n",
    "\n",
    "                elif current_sum > k:\n",
    "\n",
    "                    r -= 1\n",
    "                else:\n",
    "\n",
    "                    l+=1\n",
    "\n",
    "        return None\n",
    "            \n",
    "           \n",
    "                                               # Time = O(N^2)   , Space = O(1)\n",
    "nums = [12, 3, 4, 1, 6, 9]\n",
    "\n",
    "k = 24\n",
    "\n",
    "result = triplet_sum(nums,k)\n",
    "\n",
    "print(result)"
   ]
  }
 ],
 "metadata": {
  "kernelspec": {
   "display_name": "Python 3 (ipykernel)",
   "language": "python",
   "name": "python3"
  },
  "language_info": {
   "codemirror_mode": {
    "name": "ipython",
    "version": 3
   },
   "file_extension": ".py",
   "mimetype": "text/x-python",
   "name": "python",
   "nbconvert_exporter": "python",
   "pygments_lexer": "ipython3",
   "version": "3.11.5"
  }
 },
 "nbformat": 4,
 "nbformat_minor": 5
}
