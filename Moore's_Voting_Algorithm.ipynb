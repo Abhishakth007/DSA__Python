{
 "cells": [
  {
   "cell_type": "code",
   "execution_count": 7,
   "id": "3fbbcb0d",
   "metadata": {},
   "outputs": [
    {
     "name": "stdout",
     "output_type": "stream",
     "text": [
      "Element = 1\n",
      "Frequency = 4\n"
     ]
    }
   ],
   "source": [
    "def candidate_selection(arr):\n",
    "    candidate = arr[0]\n",
    "    count = 1\n",
    "    \n",
    "    for i in range(1,len(arr)):\n",
    "        if count == 0:\n",
    "            candidate = arr[i]\n",
    "            count = 1\n",
    "        elif arr[i] == candidate:\n",
    "            count+=1\n",
    "        else:\n",
    "            count-=1\n",
    "            \n",
    "    return candidate\n",
    "        \n",
    "\n",
    "def candidate_verification(arr,element):\n",
    "    min_required_frequency = len(arr)//2\n",
    "    if arr.count(element) > min_required_frequency:\n",
    "        return arr.count(element)\n",
    "    else:\n",
    "        return -1\n",
    "    \n",
    "\n",
    "nums = [1,1,2,1,1,2]\n",
    "chosen_candidate = candidate_selection(nums)\n",
    "verified_candidate = candidate_verification(nums,chosen_candidate)\n",
    "\n",
    "if verified_candidate == -1:\n",
    "    print(\"So such element that is repeating more length_of_array // 2\")\n",
    "else:\n",
    "    print(f\"Element = {chosen_candidate}\")\n",
    "    print(f\"Frequency = {verified_candidate}\")\n",
    "    \n",
    "    "
   ]
  }
 ],
 "metadata": {
  "kernelspec": {
   "display_name": "Python 3 (ipykernel)",
   "language": "python",
   "name": "python3"
  },
  "language_info": {
   "codemirror_mode": {
    "name": "ipython",
    "version": 3
   },
   "file_extension": ".py",
   "mimetype": "text/x-python",
   "name": "python",
   "nbconvert_exporter": "python",
   "pygments_lexer": "ipython3",
   "version": "3.11.5"
  }
 },
 "nbformat": 4,
 "nbformat_minor": 5
}
