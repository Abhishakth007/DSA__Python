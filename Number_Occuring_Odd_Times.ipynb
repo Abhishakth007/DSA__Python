{
 "cells": [
  {
   "cell_type": "code",
   "execution_count": 6,
   "id": "862e1df1",
   "metadata": {},
   "outputs": [
    {
     "name": "stdout",
     "output_type": "stream",
     "text": [
      "5\n"
     ]
    }
   ],
   "source": [
    "def find_odd_occurances(arr):\n",
    "    \n",
    "    single_val = 0\n",
    "    \n",
    "    for i in arr:  \n",
    "        single_val ^= i    \n",
    "    \n",
    "    return single_val\n",
    "\n",
    "nums = [2, 3, 5, 4, 5, 2, 4, 3, 5, 2, 4, 4, 2]\n",
    "result = find_odd_occurances(nums)       \n",
    "print(result)\n",
    "        \n",
    "# Time = O(n) , Space = O(1)"
   ]
  }
 ],
 "metadata": {
  "kernelspec": {
   "display_name": "Python 3 (ipykernel)",
   "language": "python",
   "name": "python3"
  },
  "language_info": {
   "codemirror_mode": {
    "name": "ipython",
    "version": 3
   },
   "file_extension": ".py",
   "mimetype": "text/x-python",
   "name": "python",
   "nbconvert_exporter": "python",
   "pygments_lexer": "ipython3",
   "version": "3.11.5"
  }
 },
 "nbformat": 4,
 "nbformat_minor": 5
}
