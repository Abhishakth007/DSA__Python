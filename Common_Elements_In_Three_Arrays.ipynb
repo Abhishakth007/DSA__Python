{
 "cells": [
  {
   "cell_type": "code",
   "execution_count": 1,
   "id": "9e86d6c4",
   "metadata": {},
   "outputs": [
    {
     "name": "stdout",
     "output_type": "stream",
     "text": [
      "[20, 80]\n"
     ]
    }
   ],
   "source": [
    "def commonElements (A, B, C):\n",
    "        \n",
    "            \n",
    "        A = list(set(A))\n",
    "        \n",
    "        B = list(set(B))\n",
    "        \n",
    "        C = list(set(C))\n",
    "        \n",
    "        combined_array = A+B+C\n",
    "        \n",
    "        repeated_elements = []\n",
    "        \n",
    "        seen = {}\n",
    "        \n",
    "        \n",
    "        \n",
    "        for i in combined_array:\n",
    "            \n",
    "            if i in seen:\n",
    "                \n",
    "                seen[i]+=1\n",
    "            else:\n",
    "                seen[i] = 1\n",
    "                \n",
    "        for i in seen:\n",
    "            if seen[i] == 3:\n",
    "                repeated_elements.append(i)\n",
    "        \n",
    "        \n",
    "        if repeated_elements:\n",
    "            \n",
    "            repeated_elements.sort()\n",
    "            return repeated_elements\n",
    "        \n",
    "        else:\n",
    "            return [-1]\n",
    "        \n",
    "A = {1, 5, 10, 20, 40, 80}                    #Time = O(n+m+k)  , Space = O(n+m+k)\n",
    "B = {6, 7, 20, 80, 100}\n",
    "C = {3, 4, 15, 20, 30, 70, 80, 120}\n",
    "\n",
    "result = commonElements(A,B,C)\n",
    "\n",
    "print(result)"
   ]
  }
 ],
 "metadata": {
  "kernelspec": {
   "display_name": "Python 3 (ipykernel)",
   "language": "python",
   "name": "python3"
  },
  "language_info": {
   "codemirror_mode": {
    "name": "ipython",
    "version": 3
   },
   "file_extension": ".py",
   "mimetype": "text/x-python",
   "name": "python",
   "nbconvert_exporter": "python",
   "pygments_lexer": "ipython3",
   "version": "3.11.5"
  }
 },
 "nbformat": 4,
 "nbformat_minor": 5
}
