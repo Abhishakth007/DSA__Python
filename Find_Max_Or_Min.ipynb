{
 "cells": [
  {
   "cell_type": "code",
   "execution_count": 1,
   "id": "770439e5",
   "metadata": {},
   "outputs": [
    {
     "name": "stdout",
     "output_type": "stream",
     "text": [
      "(23, 4)\n"
     ]
    }
   ],
   "source": [
    "def find_max(arr):\n",
    "    max_element = 0\n",
    "    max_index = 0\n",
    "    for i in range(len(arr)):\n",
    "        if arr[i] > max_element:  # Make it \"<\" to get the Minimum element in the Array\n",
    "            max_element = arr[i]\n",
    "            max_index = i\n",
    "\n",
    "    return max_element, max_index\n",
    "\n",
    "\n",
    "nums = [2, 4, 5, 8, 23, 5]\n",
    "result = find_max(nums)\n",
    "print(result)\n"
   ]
  },
  {
   "cell_type": "code",
   "execution_count": null,
   "id": "06df880c",
   "metadata": {},
   "outputs": [],
   "source": []
  }
 ],
 "metadata": {
  "kernelspec": {
   "display_name": "Python 3 (ipykernel)",
   "language": "python",
   "name": "python3"
  },
  "language_info": {
   "codemirror_mode": {
    "name": "ipython",
    "version": 3
   },
   "file_extension": ".py",
   "mimetype": "text/x-python",
   "name": "python",
   "nbconvert_exporter": "python",
   "pygments_lexer": "ipython3",
   "version": "3.11.5"
  }
 },
 "nbformat": 4,
 "nbformat_minor": 5
}
