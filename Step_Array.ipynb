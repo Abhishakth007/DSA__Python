{
 "cells": [
  {
   "cell_type": "code",
   "execution_count": 13,
   "id": "99f85012",
   "metadata": {},
   "outputs": [
    {
     "name": "stdout",
     "output_type": "stream",
     "text": [
      "The element is at index 5\n",
      "The element is at index 2\n"
     ]
    }
   ],
   "source": [
    "def step_array(arr,k,element):\n",
    "    \n",
    "    for i in range(len(arr)):\n",
    "        \n",
    "        if arr[i] != element:\n",
    "            \n",
    "            i += max(1,abs((element - arr[i] )// k ))\n",
    "            \n",
    "        else:\n",
    "            \n",
    "            return i\n",
    "        \n",
    "        \n",
    "        \n",
    "        \n",
    "nums = [20, 40, 50, 70, 70, 60]\n",
    "k = 20\n",
    "element = 60\n",
    "\n",
    "nums1 = [1, 3, 5, 8, 12] \n",
    "k1 = 3\n",
    "element1 = 5\n",
    "\n",
    "result = step_array(nums,k,element)                   # Time = O(n) , Space = O(1)\n",
    "result1 = step_array(nums1,k1,element1)\n",
    "\n",
    "print(\"The element is at index\",result)\n",
    "print(\"The element is at index\",result1)"
   ]
  }
 ],
 "metadata": {
  "kernelspec": {
   "display_name": "Python 3 (ipykernel)",
   "language": "python",
   "name": "python3"
  },
  "language_info": {
   "codemirror_mode": {
    "name": "ipython",
    "version": 3
   },
   "file_extension": ".py",
   "mimetype": "text/x-python",
   "name": "python",
   "nbconvert_exporter": "python",
   "pygments_lexer": "ipython3",
   "version": "3.11.5"
  }
 },
 "nbformat": 4,
 "nbformat_minor": 5
}
